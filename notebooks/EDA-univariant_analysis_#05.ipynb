{
 "cells": [
  {
   "cell_type": "code",
   "execution_count": 26,
   "id": "e9c0c9b2",
   "metadata": {},
   "outputs": [],
   "source": [
    "# importing the libraries\n",
    "import pandas as pd\n",
    "import numpy as np\n",
    "import matplotlib.pyplot as plt\n",
    "from pathlib import Path as path\n",
    "import seaborn as sns \n",
    "\n",
    "import warnings\n",
    "warnings.filterwarnings('ignore')"
   ]
  },
  {
   "cell_type": "code",
   "execution_count": 27,
   "id": "6e522d61",
   "metadata": {},
   "outputs": [],
   "source": [
    "# paths for the directories\n",
    "home_dir = path.cwd().parent           # home directory\n",
    "data_dir = home_dir / 'data'           # data directory\n",
    "iterim_data_dir = data_dir / 'interim' # interim data directory path\n",
    "dataset_path = iterim_data_dir / \"flat-house-dataset_v2.csv\"  # dataset path"
   ]
  },
  {
   "cell_type": "code",
   "execution_count": 28,
   "id": "27d34a2a",
   "metadata": {},
   "outputs": [
    {
     "data": {
      "text/html": [
       "<div>\n",
       "<style scoped>\n",
       "    .dataframe tbody tr th:only-of-type {\n",
       "        vertical-align: middle;\n",
       "    }\n",
       "\n",
       "    .dataframe tbody tr th {\n",
       "        vertical-align: top;\n",
       "    }\n",
       "\n",
       "    .dataframe thead th {\n",
       "        text-align: right;\n",
       "    }\n",
       "</style>\n",
       "<table border=\"1\" class=\"dataframe\">\n",
       "  <thead>\n",
       "    <tr style=\"text-align: right;\">\n",
       "      <th></th>\n",
       "      <th>property_type</th>\n",
       "      <th>society</th>\n",
       "      <th>sector</th>\n",
       "      <th>price</th>\n",
       "      <th>price_per_sqft</th>\n",
       "      <th>area</th>\n",
       "      <th>areaWithType</th>\n",
       "      <th>bedRoom</th>\n",
       "      <th>bathroom</th>\n",
       "      <th>balcony</th>\n",
       "      <th>...</th>\n",
       "      <th>super_built_up_area</th>\n",
       "      <th>built_up_area</th>\n",
       "      <th>carpet_area</th>\n",
       "      <th>servant room</th>\n",
       "      <th>others</th>\n",
       "      <th>pooja room</th>\n",
       "      <th>study room</th>\n",
       "      <th>store room</th>\n",
       "      <th>furnishing_type</th>\n",
       "      <th>luxury_score</th>\n",
       "    </tr>\n",
       "  </thead>\n",
       "  <tbody>\n",
       "    <tr>\n",
       "      <th>0</th>\n",
       "      <td>flat</td>\n",
       "      <td>umang monsoon breeze</td>\n",
       "      <td>sector 78</td>\n",
       "      <td>0.95</td>\n",
       "      <td>5491.0</td>\n",
       "      <td>1730.0</td>\n",
       "      <td>Built Up area: 1730 (160.72 sq.m.)</td>\n",
       "      <td>3.0</td>\n",
       "      <td>3</td>\n",
       "      <td>2</td>\n",
       "      <td>...</td>\n",
       "      <td>NaN</td>\n",
       "      <td>1730.00</td>\n",
       "      <td>NaN</td>\n",
       "      <td>0</td>\n",
       "      <td>0</td>\n",
       "      <td>0</td>\n",
       "      <td>0</td>\n",
       "      <td>0</td>\n",
       "      <td>0</td>\n",
       "      <td>65</td>\n",
       "    </tr>\n",
       "    <tr>\n",
       "      <th>1</th>\n",
       "      <td>flat</td>\n",
       "      <td>experion the heartsong</td>\n",
       "      <td>sector 108</td>\n",
       "      <td>1.68</td>\n",
       "      <td>8387.0</td>\n",
       "      <td>2003.0</td>\n",
       "      <td>Super Built up area 2003(186.08 sq.m.)Built Up...</td>\n",
       "      <td>3.0</td>\n",
       "      <td>3</td>\n",
       "      <td>3+</td>\n",
       "      <td>...</td>\n",
       "      <td>2003.0</td>\n",
       "      <td>1338.29</td>\n",
       "      <td>986.41</td>\n",
       "      <td>1</td>\n",
       "      <td>0</td>\n",
       "      <td>0</td>\n",
       "      <td>1</td>\n",
       "      <td>0</td>\n",
       "      <td>0</td>\n",
       "      <td>86</td>\n",
       "    </tr>\n",
       "    <tr>\n",
       "      <th>2</th>\n",
       "      <td>flat</td>\n",
       "      <td>umang winter hills</td>\n",
       "      <td>sector 77</td>\n",
       "      <td>0.75</td>\n",
       "      <td>5588.0</td>\n",
       "      <td>1342.0</td>\n",
       "      <td>Super Built up area 1342(124.68 sq.m.)Built Up...</td>\n",
       "      <td>2.0</td>\n",
       "      <td>2</td>\n",
       "      <td>2</td>\n",
       "      <td>...</td>\n",
       "      <td>1342.0</td>\n",
       "      <td>1140.00</td>\n",
       "      <td>969.00</td>\n",
       "      <td>0</td>\n",
       "      <td>0</td>\n",
       "      <td>0</td>\n",
       "      <td>0</td>\n",
       "      <td>1</td>\n",
       "      <td>0</td>\n",
       "      <td>102</td>\n",
       "    </tr>\n",
       "    <tr>\n",
       "      <th>3</th>\n",
       "      <td>flat</td>\n",
       "      <td>shree vardhman flora</td>\n",
       "      <td>sector 90</td>\n",
       "      <td>0.92</td>\n",
       "      <td>4717.0</td>\n",
       "      <td>1950.0</td>\n",
       "      <td>Carpet area: 1950 (181.16 sq.m.)</td>\n",
       "      <td>3.0</td>\n",
       "      <td>3</td>\n",
       "      <td>2</td>\n",
       "      <td>...</td>\n",
       "      <td>NaN</td>\n",
       "      <td>NaN</td>\n",
       "      <td>1950.00</td>\n",
       "      <td>0</td>\n",
       "      <td>0</td>\n",
       "      <td>0</td>\n",
       "      <td>1</td>\n",
       "      <td>0</td>\n",
       "      <td>0</td>\n",
       "      <td>49</td>\n",
       "    </tr>\n",
       "    <tr>\n",
       "      <th>4</th>\n",
       "      <td>flat</td>\n",
       "      <td>dlf park place</td>\n",
       "      <td>sector 54</td>\n",
       "      <td>4.85</td>\n",
       "      <td>30180.0</td>\n",
       "      <td>1607.0</td>\n",
       "      <td>Super Built up area 1983(184.23 sq.m.)Built Up...</td>\n",
       "      <td>3.0</td>\n",
       "      <td>4</td>\n",
       "      <td>3+</td>\n",
       "      <td>...</td>\n",
       "      <td>1983.0</td>\n",
       "      <td>1785.00</td>\n",
       "      <td>1607.00</td>\n",
       "      <td>1</td>\n",
       "      <td>0</td>\n",
       "      <td>0</td>\n",
       "      <td>0</td>\n",
       "      <td>0</td>\n",
       "      <td>1</td>\n",
       "      <td>158</td>\n",
       "    </tr>\n",
       "  </tbody>\n",
       "</table>\n",
       "<p>5 rows × 23 columns</p>\n",
       "</div>"
      ],
      "text/plain": [
       "  property_type                 society      sector  price  price_per_sqft  \\\n",
       "0          flat    umang monsoon breeze   sector 78   0.95          5491.0   \n",
       "1          flat  experion the heartsong  sector 108   1.68          8387.0   \n",
       "2          flat      umang winter hills   sector 77   0.75          5588.0   \n",
       "3          flat    shree vardhman flora   sector 90   0.92          4717.0   \n",
       "4          flat          dlf park place   sector 54   4.85         30180.0   \n",
       "\n",
       "     area                                       areaWithType  bedRoom  \\\n",
       "0  1730.0                 Built Up area: 1730 (160.72 sq.m.)      3.0   \n",
       "1  2003.0  Super Built up area 2003(186.08 sq.m.)Built Up...      3.0   \n",
       "2  1342.0  Super Built up area 1342(124.68 sq.m.)Built Up...      2.0   \n",
       "3  1950.0                   Carpet area: 1950 (181.16 sq.m.)      3.0   \n",
       "4  1607.0  Super Built up area 1983(184.23 sq.m.)Built Up...      3.0   \n",
       "\n",
       "   bathroom balcony  ...  super_built_up_area built_up_area carpet_area  \\\n",
       "0         3       2  ...                  NaN       1730.00         NaN   \n",
       "1         3      3+  ...               2003.0       1338.29      986.41   \n",
       "2         2       2  ...               1342.0       1140.00      969.00   \n",
       "3         3       2  ...                  NaN           NaN     1950.00   \n",
       "4         4      3+  ...               1983.0       1785.00     1607.00   \n",
       "\n",
       "   servant room  others  pooja room  study room  store room  furnishing_type  \\\n",
       "0             0       0           0           0           0                0   \n",
       "1             1       0           0           1           0                0   \n",
       "2             0       0           0           0           1                0   \n",
       "3             0       0           0           1           0                0   \n",
       "4             1       0           0           0           0                1   \n",
       "\n",
       "   luxury_score  \n",
       "0            65  \n",
       "1            86  \n",
       "2           102  \n",
       "3            49  \n",
       "4           158  \n",
       "\n",
       "[5 rows x 23 columns]"
      ]
     },
     "execution_count": 28,
     "metadata": {},
     "output_type": "execute_result"
    }
   ],
   "source": [
    "# loading the dataset into pandas dataframe\n",
    "df = pd.read_csv(dataset_path)\n",
    "\n",
    "# checking few rows from the dataset\n",
    "df.head()"
   ]
  },
  {
   "cell_type": "code",
   "execution_count": 29,
   "id": "eb83c86d",
   "metadata": {
    "scrolled": true
   },
   "outputs": [
    {
     "name": "stdout",
     "output_type": "stream",
     "text": [
      "Shape of the dataset: (3793, 23)\n"
     ]
    }
   ],
   "source": [
    "# checking the shape of the dataset\n",
    "print(f\"Shape of the dataset: {df.shape}\")"
   ]
  },
  {
   "cell_type": "code",
   "execution_count": 30,
   "id": "97c8af5b",
   "metadata": {
    "scrolled": true
   },
   "outputs": [
    {
     "name": "stdout",
     "output_type": "stream",
     "text": [
      "<class 'pandas.core.frame.DataFrame'>\n",
      "RangeIndex: 3793 entries, 0 to 3792\n",
      "Data columns (total 23 columns):\n",
      " #   Column               Non-Null Count  Dtype  \n",
      "---  ------               --------------  -----  \n",
      " 0   property_type        3793 non-null   object \n",
      " 1   society              3793 non-null   object \n",
      " 2   sector               3793 non-null   object \n",
      " 3   price                3775 non-null   float64\n",
      " 4   price_per_sqft       3775 non-null   float64\n",
      " 5   area                 3775 non-null   float64\n",
      " 6   areaWithType         3793 non-null   object \n",
      " 7   bedRoom              3793 non-null   float64\n",
      " 8   bathroom             3793 non-null   int64  \n",
      " 9   balcony              3793 non-null   object \n",
      " 10  floorNum             3776 non-null   float64\n",
      " 11  facing               2695 non-null   object \n",
      " 12  agePossession        3793 non-null   object \n",
      " 13  super_built_up_area  1913 non-null   float64\n",
      " 14  built_up_area        1731 non-null   float64\n",
      " 15  carpet_area          1938 non-null   float64\n",
      " 16  servant room         3793 non-null   int64  \n",
      " 17  others               3793 non-null   int64  \n",
      " 18  pooja room           3793 non-null   int64  \n",
      " 19  study room           3793 non-null   int64  \n",
      " 20  store room           3793 non-null   int64  \n",
      " 21  furnishing_type      3793 non-null   int64  \n",
      " 22  luxury_score         3793 non-null   int64  \n",
      "dtypes: float64(8), int64(8), object(7)\n",
      "memory usage: 681.7+ KB\n"
     ]
    }
   ],
   "source": [
    "# taking a brief overview over the dataset\n",
    "df.info()"
   ]
  },
  {
   "cell_type": "code",
   "execution_count": 31,
   "id": "47dbecc6",
   "metadata": {},
   "outputs": [
    {
     "name": "stdout",
     "output_type": "stream",
     "text": [
      "Count of the duplicated rows in the dataset: 125\n"
     ]
    }
   ],
   "source": [
    "# checking for the duplicated rows in the dataset\n",
    "print(f\"Count of the duplicated rows in the dataset: {df.duplicated().sum()}\")"
   ]
  },
  {
   "cell_type": "code",
   "execution_count": 32,
   "id": "e33c823a",
   "metadata": {},
   "outputs": [],
   "source": [
    "# removing the duplicated rows from the dataset\n",
    "df.drop_duplicates(inplace=True)"
   ]
  },
  {
   "cell_type": "code",
   "execution_count": 33,
   "id": "773b3c70",
   "metadata": {},
   "outputs": [
    {
     "data": {
      "text/plain": [
       "sector\n",
       "sector 2      247\n",
       "sector 85     108\n",
       "sector 102    107\n",
       "sector 92      99\n",
       "sector 69      93\n",
       "             ... \n",
       "sector 73       3\n",
       "sector 17a      3\n",
       "sector 17b      3\n",
       "sector 27       3\n",
       "sector 37       1\n",
       "Name: count, Length: 106, dtype: int64"
      ]
     },
     "execution_count": 33,
     "metadata": {},
     "output_type": "execute_result"
    }
   ],
   "source": [
    "df.sector.value_counts()"
   ]
  }
 ],
 "metadata": {
  "kernelspec": {
   "display_name": "Python 3 (ipykernel)",
   "language": "python",
   "name": "python3"
  },
  "language_info": {
   "codemirror_mode": {
    "name": "ipython",
    "version": 3
   },
   "file_extension": ".py",
   "mimetype": "text/x-python",
   "name": "python",
   "nbconvert_exporter": "python",
   "pygments_lexer": "ipython3",
   "version": "3.11.5"
  }
 },
 "nbformat": 4,
 "nbformat_minor": 5
}
