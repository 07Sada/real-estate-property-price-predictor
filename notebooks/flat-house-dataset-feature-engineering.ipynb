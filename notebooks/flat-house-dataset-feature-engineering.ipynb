{
 "cells": [
  {
   "cell_type": "code",
   "execution_count": 93,
   "id": "23f0a380",
   "metadata": {},
   "outputs": [],
   "source": [
    "# importing libraries\n",
    "import pandas as pd\n",
    "import numpy as np\n",
    "from pathlib import Path as path\n",
    "import matplotlib.pyplot as plt\n",
    "from sklearn.cluster import KMeans\n",
    "from sklearn.preprocessing import StandardScaler\n",
    "from tqdm.notebook import tqdm\n",
    "from IPython.display import Image, display\n",
    "import re\n",
    "\n",
    "import warnings\n",
    "warnings.filterwarnings('ignore')"
   ]
  },
  {
   "cell_type": "code",
   "execution_count": 2,
   "id": "6e5ccee1",
   "metadata": {},
   "outputs": [],
   "source": [
    "# paths\n",
    "home_dir = path.cwd().parent\n",
    "data_dir = home_dir / 'data'\n",
    "interim_dir = data_dir / 'interim'"
   ]
  },
  {
   "cell_type": "code",
   "execution_count": 3,
   "id": "b5962e2f",
   "metadata": {},
   "outputs": [],
   "source": [
    "# dataset path\n",
    "flat_house_data = interim_dir / 'flat-house-dataset.csv'"
   ]
  },
  {
   "cell_type": "code",
   "execution_count": 4,
   "id": "b0ea307f",
   "metadata": {},
   "outputs": [],
   "source": [
    "# reading the dataset\n",
    "df = pd.read_csv(flat_house_data)"
   ]
  },
  {
   "cell_type": "code",
   "execution_count": 5,
   "id": "86f06531",
   "metadata": {},
   "outputs": [],
   "source": [
    "# changing the viewing option\n",
    "pd.set_option(\"display.max_colwidth\", None)\n",
    "pd.set_option(\"display.max_rows\", None)\n",
    "pd.set_option(\"display.max_columns\", None)"
   ]
  },
  {
   "cell_type": "code",
   "execution_count": 6,
   "id": "469ec58f",
   "metadata": {},
   "outputs": [
    {
     "name": "stdout",
     "output_type": "stream",
     "text": [
      "Shape of the dataset: (3793, 17)\n"
     ]
    }
   ],
   "source": [
    "# shape of the dataset\n",
    "print(f\"Shape of the dataset: {df.shape}\")"
   ]
  },
  {
   "cell_type": "code",
   "execution_count": 7,
   "id": "8faccc31",
   "metadata": {
    "scrolled": true
   },
   "outputs": [
    {
     "data": {
      "text/html": [
       "<div>\n",
       "<style scoped>\n",
       "    .dataframe tbody tr th:only-of-type {\n",
       "        vertical-align: middle;\n",
       "    }\n",
       "\n",
       "    .dataframe tbody tr th {\n",
       "        vertical-align: top;\n",
       "    }\n",
       "\n",
       "    .dataframe thead th {\n",
       "        text-align: right;\n",
       "    }\n",
       "</style>\n",
       "<table border=\"1\" class=\"dataframe\">\n",
       "  <thead>\n",
       "    <tr style=\"text-align: right;\">\n",
       "      <th></th>\n",
       "      <th>property_type</th>\n",
       "      <th>society</th>\n",
       "      <th>sector</th>\n",
       "      <th>price</th>\n",
       "      <th>price_per_sqft</th>\n",
       "      <th>area</th>\n",
       "      <th>areaWithType</th>\n",
       "      <th>bedRoom</th>\n",
       "      <th>bathroom</th>\n",
       "      <th>balcony</th>\n",
       "      <th>additionalRoom</th>\n",
       "      <th>floorNum</th>\n",
       "      <th>facing</th>\n",
       "      <th>agePossession</th>\n",
       "      <th>nearbyLocations</th>\n",
       "      <th>furnishDetails</th>\n",
       "      <th>features</th>\n",
       "    </tr>\n",
       "  </thead>\n",
       "  <tbody>\n",
       "    <tr>\n",
       "      <th>0</th>\n",
       "      <td>flat</td>\n",
       "      <td>maa bhagwati residency</td>\n",
       "      <td>NaN</td>\n",
       "      <td>0.45</td>\n",
       "      <td>5000.0</td>\n",
       "      <td>900.0</td>\n",
       "      <td>Carpet area: 900 (83.61 sq.m.)</td>\n",
       "      <td>2.0</td>\n",
       "      <td>2</td>\n",
       "      <td>1</td>\n",
       "      <td>not available</td>\n",
       "      <td>4.0</td>\n",
       "      <td>West</td>\n",
       "      <td>1 to 5 Year Old</td>\n",
       "      <td>['Chintapurni Mandir', 'State bank ATM', 'Pearl Dental Clinic', 'Taneja Hospital', 'Dr. Ashok Jain', 'Dr. Madan Clinic', 'Geeta Nursing Home Gurgaon', 'Chiranjiv Hospital', 'Dev Man Kathuria Clinic', 'Aryan Hospital', 'Kr Dental Hub', 'Swastik Maternity and Medical Centre', 'Satyam Hospital Gurgaon', 'Ravi Clinic and Health Care Centre', 'D.R. Rajnis Gupta Clinic', 'Esic Hospital Gurugram', 'Gurgaon Eye Centre', 'Bindal Clinic', 'Shiv Mahima Patient Care Bureau', 'Shree Krishna Hospital Gurgaon', 'M.S Hospital', 'My Care Clinic', 'Ankur Clinic and Maternity Home', 'Triveni Hospital Gurgaon', 'Shri Gobind Hospital', 'Navjeevan Hospital and Maternity Centre', 'Lal Superspeciality Hospital', 'Sparsh Hospital Gurgaon', 'Prateek Nursing Home And Polyclinic', 'Jain Sant Phool Chand Ji Charitable Hospital', 'Sarvodya Hospital', 'Bhatnagar Maternity and Nursing Home', 'Tirath Ram Hospitals Pvt Ltd', 'Dr. Sarvejeet Singh', 'Centre For Sight Gurgaon New Railway Road', 'Dr. Ajay S. Gupta Clinic', 'Kidney Clinic', 'Mangalam Hospital and Heart Centre Gurgaon', 'Sethi Hospital Gurgaon', 'Shubham Hospital Gurgaon', 'Kharbanda Maternity and Nursing Home', 'Gupta Hospital Gurgaon', 'Dentecare - Multispeciality Dental Clinic', 'State bank of india', 'Hdfc bank', 'Kotak bank', 'Indian bank', 'Pizza Hut', 'St. Michaels Sr. Sec. School', 'Dronacharya Government College']</td>\n",
       "      <td>['3 Fan', '4 Light', '1 Wardrobe', 'No AC', 'No Bed', 'No Chimney', 'No Curtains', 'No Dining Table', 'No Exhaust Fan', 'No Geyser', 'No Modular Kitchen', 'No Microwave', 'No Fridge', 'No Sofa', 'No Stove', 'No TV', 'No Washing Machine', 'No Water Purifier']</td>\n",
       "      <td>['Feng Shui / Vaastu Compliant', 'Security / Fire Alarm', 'Lift(s)', 'Water Storage', 'Visitor Parking']</td>\n",
       "    </tr>\n",
       "  </tbody>\n",
       "</table>\n",
       "</div>"
      ],
      "text/plain": [
       "  property_type                 society  sector  price  price_per_sqft   area  \\\n",
       "0          flat  maa bhagwati residency     NaN   0.45          5000.0  900.0   \n",
       "\n",
       "                     areaWithType  bedRoom  bathroom balcony additionalRoom  \\\n",
       "0  Carpet area: 900 (83.61 sq.m.)      2.0         2       1  not available   \n",
       "\n",
       "   floorNum facing    agePossession  \\\n",
       "0       4.0   West  1 to 5 Year Old   \n",
       "\n",
       "                                                                                                                                                                                                                                                                                                                                                                                                                                                                                                                                                                                                                                                                                                                                                                                                                                                                                                                                                                                                                                                                                                                                                                                                                                                                                                                                                                                                                nearbyLocations  \\\n",
       "0  ['Chintapurni Mandir', 'State bank ATM', 'Pearl Dental Clinic', 'Taneja Hospital', 'Dr. Ashok Jain', 'Dr. Madan Clinic', 'Geeta Nursing Home Gurgaon', 'Chiranjiv Hospital', 'Dev Man Kathuria Clinic', 'Aryan Hospital', 'Kr Dental Hub', 'Swastik Maternity and Medical Centre', 'Satyam Hospital Gurgaon', 'Ravi Clinic and Health Care Centre', 'D.R. Rajnis Gupta Clinic', 'Esic Hospital Gurugram', 'Gurgaon Eye Centre', 'Bindal Clinic', 'Shiv Mahima Patient Care Bureau', 'Shree Krishna Hospital Gurgaon', 'M.S Hospital', 'My Care Clinic', 'Ankur Clinic and Maternity Home', 'Triveni Hospital Gurgaon', 'Shri Gobind Hospital', 'Navjeevan Hospital and Maternity Centre', 'Lal Superspeciality Hospital', 'Sparsh Hospital Gurgaon', 'Prateek Nursing Home And Polyclinic', 'Jain Sant Phool Chand Ji Charitable Hospital', 'Sarvodya Hospital', 'Bhatnagar Maternity and Nursing Home', 'Tirath Ram Hospitals Pvt Ltd', 'Dr. Sarvejeet Singh', 'Centre For Sight Gurgaon New Railway Road', 'Dr. Ajay S. Gupta Clinic', 'Kidney Clinic', 'Mangalam Hospital and Heart Centre Gurgaon', 'Sethi Hospital Gurgaon', 'Shubham Hospital Gurgaon', 'Kharbanda Maternity and Nursing Home', 'Gupta Hospital Gurgaon', 'Dentecare - Multispeciality Dental Clinic', 'State bank of india', 'Hdfc bank', 'Kotak bank', 'Indian bank', 'Pizza Hut', 'St. Michaels Sr. Sec. School', 'Dronacharya Government College']   \n",
       "\n",
       "                                                                                                                                                                                                                                                       furnishDetails  \\\n",
       "0  ['3 Fan', '4 Light', '1 Wardrobe', 'No AC', 'No Bed', 'No Chimney', 'No Curtains', 'No Dining Table', 'No Exhaust Fan', 'No Geyser', 'No Modular Kitchen', 'No Microwave', 'No Fridge', 'No Sofa', 'No Stove', 'No TV', 'No Washing Machine', 'No Water Purifier']   \n",
       "\n",
       "                                                                                                   features  \n",
       "0  ['Feng Shui / Vaastu Compliant', 'Security / Fire Alarm', 'Lift(s)', 'Water Storage', 'Visitor Parking']  "
      ]
     },
     "execution_count": 7,
     "metadata": {},
     "output_type": "execute_result"
    }
   ],
   "source": [
    "# checking rows in the dataset\n",
    "df.head(1)"
   ]
  },
  {
   "cell_type": "markdown",
   "id": "78e68dd6",
   "metadata": {},
   "source": [
    "# Features in focus"
   ]
  },
  {
   "cell_type": "markdown",
   "id": "9cb169d5",
   "metadata": {},
   "source": [
    "## 1. areaWithType"
   ]
  },
  {
   "cell_type": "code",
   "execution_count": 8,
   "id": "17ddd112",
   "metadata": {},
   "outputs": [
    {
     "data": {
      "text/html": [
       "<div>\n",
       "<style scoped>\n",
       "    .dataframe tbody tr th:only-of-type {\n",
       "        vertical-align: middle;\n",
       "    }\n",
       "\n",
       "    .dataframe tbody tr th {\n",
       "        vertical-align: top;\n",
       "    }\n",
       "\n",
       "    .dataframe thead th {\n",
       "        text-align: right;\n",
       "    }\n",
       "</style>\n",
       "<table border=\"1\" class=\"dataframe\">\n",
       "  <thead>\n",
       "    <tr style=\"text-align: right;\">\n",
       "      <th></th>\n",
       "      <th>price</th>\n",
       "      <th>area</th>\n",
       "      <th>areaWithType</th>\n",
       "    </tr>\n",
       "  </thead>\n",
       "  <tbody>\n",
       "    <tr>\n",
       "      <th>2056</th>\n",
       "      <td>2.25</td>\n",
       "      <td>1653.0</td>\n",
       "      <td>Carpet area: 1433 (133.13 sq.m.)</td>\n",
       "    </tr>\n",
       "    <tr>\n",
       "      <th>2509</th>\n",
       "      <td>1.78</td>\n",
       "      <td>1424.0</td>\n",
       "      <td>Carpet area: 1424 (132.29 sq.m.)</td>\n",
       "    </tr>\n",
       "    <tr>\n",
       "      <th>2080</th>\n",
       "      <td>0.79</td>\n",
       "      <td>1298.0</td>\n",
       "      <td>Super Built up area 1298(120.59 sq.m.)</td>\n",
       "    </tr>\n",
       "    <tr>\n",
       "      <th>1455</th>\n",
       "      <td>1.85</td>\n",
       "      <td>2290.0</td>\n",
       "      <td>Super Built up area 2290(212.75 sq.m.)</td>\n",
       "    </tr>\n",
       "    <tr>\n",
       "      <th>2486</th>\n",
       "      <td>1.00</td>\n",
       "      <td>1110.0</td>\n",
       "      <td>Carpet area: 1110 (103.12 sq.m.)</td>\n",
       "    </tr>\n",
       "  </tbody>\n",
       "</table>\n",
       "</div>"
      ],
      "text/plain": [
       "      price    area                            areaWithType\n",
       "2056   2.25  1653.0        Carpet area: 1433 (133.13 sq.m.)\n",
       "2509   1.78  1424.0        Carpet area: 1424 (132.29 sq.m.)\n",
       "2080   0.79  1298.0  Super Built up area 1298(120.59 sq.m.)\n",
       "1455   1.85  2290.0  Super Built up area 2290(212.75 sq.m.)\n",
       "2486   1.00  1110.0        Carpet area: 1110 (103.12 sq.m.)"
      ]
     },
     "execution_count": 8,
     "metadata": {},
     "output_type": "execute_result"
    }
   ],
   "source": [
    "# let's check few rows from 'price', 'area', 'areaWithType' columns\n",
    "df[['price', 'area', 'areaWithType']].sample(5)"
   ]
  },
  {
   "cell_type": "markdown",
   "id": "0b444396",
   "metadata": {},
   "source": [
    "---\n",
    "### Initial Obeservations\n",
    "- as we can see in above 'areawithType' columns\n",
    "- four types of values are mentioned \n",
    "    - carpet area, \n",
    "    - built up area, \n",
    "    - super built up area and\n",
    "    - plot area\n",
    "- carpet area, built area and super built area are belong to flats\n",
    "- and plot area belong to houses"
   ]
  },
  {
   "cell_type": "markdown",
   "id": "1361ecf8",
   "metadata": {},
   "source": [
    "### Definations\n",
    "\n",
    "#### Carpet Area:\n",
    "- `The actual usable area within a property`, excluding walls, balconies, and other common areas.\n",
    "- Measured from wall to wall, where the carpet could be laid.\n",
    "- Used for calculating the saleable price per square foot of usable space.\n",
    "\n",
    "#### Built-Up Area:\n",
    "- `Carpet area plus the area occupied by walls, balconies, staircases`, etc., within the individual property's boundaries.\n",
    "- Represents the total area enclosed by the unit's walls.\n",
    "- Often used for calculating maintenance charges and common area contributions.\n",
    "\n",
    "#### Super Built-Up Area (SBA):\n",
    "- `Built-up area plus a proportionate share of the common areas like lobbies, elevators, staircases, amenities`, etc., shared by all residents.\n",
    "- Includes areas that benefit the residents indirectly but aren't part of their individual unit.\n",
    "- Used for calculating the total cost of the property, including the share of common areas.\n",
    "\n",
    "#### Example for better understanding\n",
    "- A flat with a carpet area of 1000 sq ft, a built-up area of 1200 sq ft, and an SBA of 1500 sq ft.\n",
    "- This means the actual usable space is 1000 sq ft, the individual unit including walls is 1200 sq ft, and the total cost includes a share of 300 sq ft of common areas."
   ]
  },
  {
   "cell_type": "code",
   "execution_count": 9,
   "id": "615f4a67",
   "metadata": {},
   "outputs": [],
   "source": [
    "# we will seperate these values from single column to individual columns\n",
    "\n",
    "# function to extract the super built up area\n",
    "def get_super_built_up_area(text):\n",
    "    '''\n",
    "    Extracts the super built-up area from a given text\n",
    "    \n",
    "    Args:\n",
    "        text (str): A string containing information about the property, potentially including the super built-up area.\n",
    "\n",
    "    Returns:\n",
    "        float or None: The super built-up area extracted from the text, or None if not found.\n",
    "    '''\n",
    "    match = re.search(r'Super Built up area (\\d+\\.?\\d*)', text)\n",
    "    if match:\n",
    "        return float(match.group(1))\n",
    "    return None\n",
    "\n",
    "\n",
    "# function to extract built-up area or carpet area\n",
    "def get_area(text, area_type):\n",
    "    '''\n",
    "    Extracts the built up area or carpet area\n",
    "    \n",
    "    Args:\n",
    "        text(str): A string containing information about the property, potentially including the super built-up area or carpet area.\n",
    "        area_type(str) : The area you wish to extract from the text\n",
    "    \n",
    "    Returns:\n",
    "        float or None: The carpet area or built-area extracted from the text, or None if not found\n",
    "    '''\n",
    "    match = re.search(area_type + r'\\s*:\\s*(\\d+\\.?\\d*)' , text)\n",
    "    if match:\n",
    "        return float(match.group(1))\n",
    "    return None\n",
    "\n",
    "\n",
    "# some area values are given in sq.m. \n",
    "# we will maintain single unit i.e. sq.ft for all areas\n",
    "\n",
    "# function checks if the area is in sq.m convert it sqft if needed\n",
    "def convert_to_sqft(text:str, area_value):\n",
    "    '''\n",
    "    Converts an area value (potentially provided in sq.m.) to square feet (sqft).\n",
    "\n",
    "    Args:\n",
    "        text (str): A string containing the area information.\n",
    "        area_value (float or None): An optional explicit area value.\n",
    "\n",
    "    Returns:\n",
    "        float or None: The converted area in sqft, or None if no area information is found or conversion is not possible.\n",
    "    '''\n",
    "    if area_value is None:\n",
    "        return None\n",
    "    match = re.search(r'{} \\((\\d+\\.?\\d*) sq.m.\\)'.format(area_value), text)\n",
    "    if match:\n",
    "        sq_m_value = float(match.group(1))\n",
    "        return sq_m_value * 10.7639  # conversion factor from sq.m. to sqft\n",
    "    return area_value"
   ]
  },
  {
   "cell_type": "code",
   "execution_count": 10,
   "id": "b132f9a0",
   "metadata": {},
   "outputs": [],
   "source": [
    "# Extract Super Built up area and convert to sqft if needed\n",
    "df['super_built_up_area'] = df['areaWithType'].apply(get_super_built_up_area)\n",
    "df['super_built_up_area'] = df.apply(lambda x: convert_to_sqft(x['areaWithType'], x['super_built_up_area']), axis=1)\n",
    "\n",
    "# Extract Built up area and to convert sqft if need\n",
    "df['built_up_area'] = df['areaWithType'].apply(lambda x: get_area(x, \"Built Up area\"))\n",
    "df['built_up_area'] = df.apply(lambda x: convert_to_sqft(x['areaWithType'], x['built_up_area']), axis=1)\n",
    "\n",
    "# Extract carpet area and convert to sqft if needed\n",
    "df['carpet_area'] = df['areaWithType'].apply(lambda x: get_area(x, 'Carpet area'))\n",
    "df['carpet_area'] = df.apply(lambda x: convert_to_sqft(x['areaWithType'], x['carpet_area']), axis=1)"
   ]
  },
  {
   "cell_type": "code",
   "execution_count": 11,
   "id": "901854bb",
   "metadata": {},
   "outputs": [
    {
     "data": {
      "text/html": [
       "<div>\n",
       "<style scoped>\n",
       "    .dataframe tbody tr th:only-of-type {\n",
       "        vertical-align: middle;\n",
       "    }\n",
       "\n",
       "    .dataframe tbody tr th {\n",
       "        vertical-align: top;\n",
       "    }\n",
       "\n",
       "    .dataframe thead th {\n",
       "        text-align: right;\n",
       "    }\n",
       "</style>\n",
       "<table border=\"1\" class=\"dataframe\">\n",
       "  <thead>\n",
       "    <tr style=\"text-align: right;\">\n",
       "      <th></th>\n",
       "      <th>price</th>\n",
       "      <th>property_type</th>\n",
       "      <th>area</th>\n",
       "      <th>areaWithType</th>\n",
       "      <th>super_built_up_area</th>\n",
       "      <th>built_up_area</th>\n",
       "      <th>carpet_area</th>\n",
       "    </tr>\n",
       "  </thead>\n",
       "  <tbody>\n",
       "    <tr>\n",
       "      <th>1418</th>\n",
       "      <td>0.53</td>\n",
       "      <td>flat</td>\n",
       "      <td>842.0</td>\n",
       "      <td>Carpet area: 845 (78.5 sq.m.)</td>\n",
       "      <td>NaN</td>\n",
       "      <td>NaN</td>\n",
       "      <td>845.0</td>\n",
       "    </tr>\n",
       "    <tr>\n",
       "      <th>1139</th>\n",
       "      <td>0.35</td>\n",
       "      <td>flat</td>\n",
       "      <td>539.0</td>\n",
       "      <td>Carpet area: 547 (50.82 sq.m.)</td>\n",
       "      <td>NaN</td>\n",
       "      <td>NaN</td>\n",
       "      <td>547.0</td>\n",
       "    </tr>\n",
       "    <tr>\n",
       "      <th>2425</th>\n",
       "      <td>1.60</td>\n",
       "      <td>flat</td>\n",
       "      <td>1960.0</td>\n",
       "      <td>Super Built up area 1960(182.09 sq.m.)</td>\n",
       "      <td>1960.0</td>\n",
       "      <td>NaN</td>\n",
       "      <td>NaN</td>\n",
       "    </tr>\n",
       "    <tr>\n",
       "      <th>165</th>\n",
       "      <td>1.65</td>\n",
       "      <td>flat</td>\n",
       "      <td>2600.0</td>\n",
       "      <td>Super Built up area 2364(219.62 sq.m.)</td>\n",
       "      <td>2364.0</td>\n",
       "      <td>NaN</td>\n",
       "      <td>NaN</td>\n",
       "    </tr>\n",
       "    <tr>\n",
       "      <th>1727</th>\n",
       "      <td>2.50</td>\n",
       "      <td>flat</td>\n",
       "      <td>2132.0</td>\n",
       "      <td>Super Built up area 2132(198.07 sq.m.)Built Up area: 2130 sq.ft. (197.88 sq.m.)Carpet area: 2129 sq.ft. (197.79 sq.m.)</td>\n",
       "      <td>2132.0</td>\n",
       "      <td>2130.0</td>\n",
       "      <td>2129.0</td>\n",
       "    </tr>\n",
       "  </tbody>\n",
       "</table>\n",
       "</div>"
      ],
      "text/plain": [
       "      price property_type    area  \\\n",
       "1418   0.53          flat   842.0   \n",
       "1139   0.35          flat   539.0   \n",
       "2425   1.60          flat  1960.0   \n",
       "165    1.65          flat  2600.0   \n",
       "1727   2.50          flat  2132.0   \n",
       "\n",
       "                                                                                                                areaWithType  \\\n",
       "1418                                                                                           Carpet area: 845 (78.5 sq.m.)   \n",
       "1139                                                                                          Carpet area: 547 (50.82 sq.m.)   \n",
       "2425                                                                                  Super Built up area 1960(182.09 sq.m.)   \n",
       "165                                                                                   Super Built up area 2364(219.62 sq.m.)   \n",
       "1727  Super Built up area 2132(198.07 sq.m.)Built Up area: 2130 sq.ft. (197.88 sq.m.)Carpet area: 2129 sq.ft. (197.79 sq.m.)   \n",
       "\n",
       "      super_built_up_area  built_up_area  carpet_area  \n",
       "1418                  NaN            NaN        845.0  \n",
       "1139                  NaN            NaN        547.0  \n",
       "2425               1960.0            NaN          NaN  \n",
       "165                2364.0            NaN          NaN  \n",
       "1727               2132.0         2130.0       2129.0  "
      ]
     },
     "execution_count": 11,
     "metadata": {},
     "output_type": "execute_result"
    }
   ],
   "source": [
    "# checking few sample rows from above created columns\n",
    "df[['price', 'property_type', 'area', 'areaWithType', 'super_built_up_area', 'built_up_area', 'carpet_area']].sample(5)"
   ]
  },
  {
   "cell_type": "code",
   "execution_count": 12,
   "id": "887e1e3d",
   "metadata": {},
   "outputs": [
    {
     "data": {
      "text/plain": [
       "(534, 7)"
      ]
     },
     "execution_count": 12,
     "metadata": {},
     "output_type": "execute_result"
    }
   ],
   "source": [
    "# total rows of column 'price', 'property_type', 'area', 'areaWithType', 'super_built_up_area', 'built_up_area', 'carpet_area'\n",
    "# where all values of 'super_built_up_area', 'built_up_area' and 'carpet_area' is present\n",
    "\n",
    "df[~((df['super_built_up_area'].isnull()) | (df['built_up_area'].isnull()) |(df['carpet_area'].isnull()))][['price', 'property_type', 'area', 'areaWithType', 'super_built_up_area', 'built_up_area', 'carpet_area']].shape"
   ]
  },
  {
   "cell_type": "code",
   "execution_count": 13,
   "id": "569397fd",
   "metadata": {
    "scrolled": false
   },
   "outputs": [
    {
     "data": {
      "text/html": [
       "<div>\n",
       "<style scoped>\n",
       "    .dataframe tbody tr th:only-of-type {\n",
       "        vertical-align: middle;\n",
       "    }\n",
       "\n",
       "    .dataframe tbody tr th {\n",
       "        vertical-align: top;\n",
       "    }\n",
       "\n",
       "    .dataframe thead th {\n",
       "        text-align: right;\n",
       "    }\n",
       "</style>\n",
       "<table border=\"1\" class=\"dataframe\">\n",
       "  <thead>\n",
       "    <tr style=\"text-align: right;\">\n",
       "      <th></th>\n",
       "      <th>price</th>\n",
       "      <th>property_type</th>\n",
       "      <th>area</th>\n",
       "      <th>areaWithType</th>\n",
       "      <th>super_built_up_area</th>\n",
       "      <th>built_up_area</th>\n",
       "      <th>carpet_area</th>\n",
       "    </tr>\n",
       "  </thead>\n",
       "  <tbody>\n",
       "    <tr>\n",
       "      <th>38</th>\n",
       "      <td>0.78</td>\n",
       "      <td>flat</td>\n",
       "      <td>1365.0</td>\n",
       "      <td>Super Built up area 1365(126.81 sq.m.)Built Up area: 1068.1 sq.ft. (99.23 sq.m.)Carpet area: 900 sq.ft. (83.61 sq.m.)</td>\n",
       "      <td>1365.0</td>\n",
       "      <td>1068.1</td>\n",
       "      <td>900.0</td>\n",
       "    </tr>\n",
       "    <tr>\n",
       "      <th>100</th>\n",
       "      <td>2.10</td>\n",
       "      <td>flat</td>\n",
       "      <td>2000.0</td>\n",
       "      <td>Super Built up area 2000(185.81 sq.m.)Built Up area: 1600 sq.ft. (148.64 sq.m.)Carpet area: 1500 sq.ft. (139.35 sq.m.)</td>\n",
       "      <td>2000.0</td>\n",
       "      <td>1600.0</td>\n",
       "      <td>1500.0</td>\n",
       "    </tr>\n",
       "    <tr>\n",
       "      <th>130</th>\n",
       "      <td>0.90</td>\n",
       "      <td>flat</td>\n",
       "      <td>1950.0</td>\n",
       "      <td>Super Built up area 1950(181.16 sq.m.)Built Up area: 1900 sq.ft. (176.52 sq.m.)Carpet area: 1854 sq.ft. (172.24 sq.m.)</td>\n",
       "      <td>1950.0</td>\n",
       "      <td>1900.0</td>\n",
       "      <td>1854.0</td>\n",
       "    </tr>\n",
       "    <tr>\n",
       "      <th>133</th>\n",
       "      <td>0.90</td>\n",
       "      <td>flat</td>\n",
       "      <td>1530.0</td>\n",
       "      <td>Super Built up area 1530(142.14 sq.m.)Built Up area: 1450 sq.ft. (134.71 sq.m.)Carpet area: 1400 sq.ft. (130.06 sq.m.)</td>\n",
       "      <td>1530.0</td>\n",
       "      <td>1450.0</td>\n",
       "      <td>1400.0</td>\n",
       "    </tr>\n",
       "    <tr>\n",
       "      <th>138</th>\n",
       "      <td>1.15</td>\n",
       "      <td>flat</td>\n",
       "      <td>2000.0</td>\n",
       "      <td>Super Built up area 2500(232.26 sq.m.)Built Up area: 2000 sq.ft. (185.81 sq.m.)Carpet area: 1750 sq.ft. (162.58 sq.m.)</td>\n",
       "      <td>2500.0</td>\n",
       "      <td>2000.0</td>\n",
       "      <td>1750.0</td>\n",
       "    </tr>\n",
       "    <tr>\n",
       "      <th>147</th>\n",
       "      <td>1.95</td>\n",
       "      <td>flat</td>\n",
       "      <td>1350.0</td>\n",
       "      <td>Super Built up area 2191(203.55 sq.m.)Built Up area: 1650 sq.ft. (153.29 sq.m.)Carpet area: 1350 sq.ft. (125.42 sq.m.)</td>\n",
       "      <td>2191.0</td>\n",
       "      <td>1650.0</td>\n",
       "      <td>1350.0</td>\n",
       "    </tr>\n",
       "    <tr>\n",
       "      <th>178</th>\n",
       "      <td>1.15</td>\n",
       "      <td>flat</td>\n",
       "      <td>1534.0</td>\n",
       "      <td>Super Built up area 1534(142.51 sq.m.)Built Up area: 1200 sq.ft. (111.48 sq.m.)Carpet area: 1103 sq.ft. (102.47 sq.m.)</td>\n",
       "      <td>1534.0</td>\n",
       "      <td>1200.0</td>\n",
       "      <td>1103.0</td>\n",
       "    </tr>\n",
       "    <tr>\n",
       "      <th>200</th>\n",
       "      <td>0.90</td>\n",
       "      <td>flat</td>\n",
       "      <td>1446.0</td>\n",
       "      <td>Super Built up area 1285(119.38 sq.m.)Built Up area: 1185 sq.ft. (110.09 sq.m.)Carpet area: 975 sq.ft. (90.58 sq.m.)</td>\n",
       "      <td>1285.0</td>\n",
       "      <td>1185.0</td>\n",
       "      <td>975.0</td>\n",
       "    </tr>\n",
       "    <tr>\n",
       "      <th>214</th>\n",
       "      <td>0.71</td>\n",
       "      <td>flat</td>\n",
       "      <td>1310.0</td>\n",
       "      <td>Super Built up area 1310(121.7 sq.m.)Built Up area: 1100 sq.ft. (102.19 sq.m.)Carpet area: 1000 sq.ft. (92.9 sq.m.)</td>\n",
       "      <td>1310.0</td>\n",
       "      <td>1100.0</td>\n",
       "      <td>1000.0</td>\n",
       "    </tr>\n",
       "    <tr>\n",
       "      <th>222</th>\n",
       "      <td>1.10</td>\n",
       "      <td>flat</td>\n",
       "      <td>1110.0</td>\n",
       "      <td>Super Built up area 1110(103.12 sq.m.)Built Up area: 1100 sq.ft. (102.19 sq.m.)Carpet area: 1000 sq.ft. (92.9 sq.m.)</td>\n",
       "      <td>1110.0</td>\n",
       "      <td>1100.0</td>\n",
       "      <td>1000.0</td>\n",
       "    </tr>\n",
       "  </tbody>\n",
       "</table>\n",
       "</div>"
      ],
      "text/plain": [
       "     price property_type    area  \\\n",
       "38    0.78          flat  1365.0   \n",
       "100   2.10          flat  2000.0   \n",
       "130   0.90          flat  1950.0   \n",
       "133   0.90          flat  1530.0   \n",
       "138   1.15          flat  2000.0   \n",
       "147   1.95          flat  1350.0   \n",
       "178   1.15          flat  1534.0   \n",
       "200   0.90          flat  1446.0   \n",
       "214   0.71          flat  1310.0   \n",
       "222   1.10          flat  1110.0   \n",
       "\n",
       "                                                                                                               areaWithType  \\\n",
       "38    Super Built up area 1365(126.81 sq.m.)Built Up area: 1068.1 sq.ft. (99.23 sq.m.)Carpet area: 900 sq.ft. (83.61 sq.m.)   \n",
       "100  Super Built up area 2000(185.81 sq.m.)Built Up area: 1600 sq.ft. (148.64 sq.m.)Carpet area: 1500 sq.ft. (139.35 sq.m.)   \n",
       "130  Super Built up area 1950(181.16 sq.m.)Built Up area: 1900 sq.ft. (176.52 sq.m.)Carpet area: 1854 sq.ft. (172.24 sq.m.)   \n",
       "133  Super Built up area 1530(142.14 sq.m.)Built Up area: 1450 sq.ft. (134.71 sq.m.)Carpet area: 1400 sq.ft. (130.06 sq.m.)   \n",
       "138  Super Built up area 2500(232.26 sq.m.)Built Up area: 2000 sq.ft. (185.81 sq.m.)Carpet area: 1750 sq.ft. (162.58 sq.m.)   \n",
       "147  Super Built up area 2191(203.55 sq.m.)Built Up area: 1650 sq.ft. (153.29 sq.m.)Carpet area: 1350 sq.ft. (125.42 sq.m.)   \n",
       "178  Super Built up area 1534(142.51 sq.m.)Built Up area: 1200 sq.ft. (111.48 sq.m.)Carpet area: 1103 sq.ft. (102.47 sq.m.)   \n",
       "200    Super Built up area 1285(119.38 sq.m.)Built Up area: 1185 sq.ft. (110.09 sq.m.)Carpet area: 975 sq.ft. (90.58 sq.m.)   \n",
       "214     Super Built up area 1310(121.7 sq.m.)Built Up area: 1100 sq.ft. (102.19 sq.m.)Carpet area: 1000 sq.ft. (92.9 sq.m.)   \n",
       "222    Super Built up area 1110(103.12 sq.m.)Built Up area: 1100 sq.ft. (102.19 sq.m.)Carpet area: 1000 sq.ft. (92.9 sq.m.)   \n",
       "\n",
       "     super_built_up_area  built_up_area  carpet_area  \n",
       "38                1365.0         1068.1        900.0  \n",
       "100               2000.0         1600.0       1500.0  \n",
       "130               1950.0         1900.0       1854.0  \n",
       "133               1530.0         1450.0       1400.0  \n",
       "138               2500.0         2000.0       1750.0  \n",
       "147               2191.0         1650.0       1350.0  \n",
       "178               1534.0         1200.0       1103.0  \n",
       "200               1285.0         1185.0        975.0  \n",
       "214               1310.0         1100.0       1000.0  \n",
       "222               1110.0         1100.0       1000.0  "
      ]
     },
     "execution_count": 13,
     "metadata": {},
     "output_type": "execute_result"
    }
   ],
   "source": [
    "# checking first 10 rows, where we achieve above mentioned condition\n",
    "df[~((df['super_built_up_area'].isnull()) | (df['built_up_area'].isnull()) |(df['carpet_area'].isnull()))][['price', 'property_type', 'area', 'areaWithType', 'super_built_up_area', 'built_up_area', 'carpet_area']].iloc[:10]"
   ]
  },
  {
   "cell_type": "code",
   "execution_count": 14,
   "id": "268691da",
   "metadata": {},
   "outputs": [
    {
     "data": {
      "text/html": [
       "<div>\n",
       "<style scoped>\n",
       "    .dataframe tbody tr th:only-of-type {\n",
       "        vertical-align: middle;\n",
       "    }\n",
       "\n",
       "    .dataframe tbody tr th {\n",
       "        vertical-align: top;\n",
       "    }\n",
       "\n",
       "    .dataframe thead th {\n",
       "        text-align: right;\n",
       "    }\n",
       "</style>\n",
       "<table border=\"1\" class=\"dataframe\">\n",
       "  <thead>\n",
       "    <tr style=\"text-align: right;\">\n",
       "      <th></th>\n",
       "      <th>price</th>\n",
       "      <th>property_type</th>\n",
       "      <th>area</th>\n",
       "      <th>areaWithType</th>\n",
       "      <th>super_built_up_area</th>\n",
       "      <th>built_up_area</th>\n",
       "      <th>carpet_area</th>\n",
       "    </tr>\n",
       "  </thead>\n",
       "  <tbody>\n",
       "    <tr>\n",
       "      <th>2933</th>\n",
       "      <td>5.25</td>\n",
       "      <td>house</td>\n",
       "      <td>2610.0</td>\n",
       "      <td>Plot area 290(242.48 sq.m.)</td>\n",
       "      <td>NaN</td>\n",
       "      <td>NaN</td>\n",
       "      <td>NaN</td>\n",
       "    </tr>\n",
       "    <tr>\n",
       "      <th>2934</th>\n",
       "      <td>2.10</td>\n",
       "      <td>house</td>\n",
       "      <td>549.0</td>\n",
       "      <td>Plot area 61(51 sq.m.)</td>\n",
       "      <td>NaN</td>\n",
       "      <td>NaN</td>\n",
       "      <td>NaN</td>\n",
       "    </tr>\n",
       "    <tr>\n",
       "      <th>2935</th>\n",
       "      <td>5.00</td>\n",
       "      <td>house</td>\n",
       "      <td>1161.0</td>\n",
       "      <td>Plot area 129(107.86 sq.m.)</td>\n",
       "      <td>NaN</td>\n",
       "      <td>NaN</td>\n",
       "      <td>NaN</td>\n",
       "    </tr>\n",
       "    <tr>\n",
       "      <th>2936</th>\n",
       "      <td>3.00</td>\n",
       "      <td>house</td>\n",
       "      <td>558.0</td>\n",
       "      <td>Plot area 62(51.84 sq.m.)</td>\n",
       "      <td>NaN</td>\n",
       "      <td>NaN</td>\n",
       "      <td>NaN</td>\n",
       "    </tr>\n",
       "    <tr>\n",
       "      <th>2937</th>\n",
       "      <td>4.50</td>\n",
       "      <td>house</td>\n",
       "      <td>1152.0</td>\n",
       "      <td>Plot area 128(107.02 sq.m.)</td>\n",
       "      <td>NaN</td>\n",
       "      <td>NaN</td>\n",
       "      <td>NaN</td>\n",
       "    </tr>\n",
       "  </tbody>\n",
       "</table>\n",
       "</div>"
      ],
      "text/plain": [
       "      price property_type    area                 areaWithType  \\\n",
       "2933   5.25         house  2610.0  Plot area 290(242.48 sq.m.)   \n",
       "2934   2.10         house   549.0       Plot area 61(51 sq.m.)   \n",
       "2935   5.00         house  1161.0  Plot area 129(107.86 sq.m.)   \n",
       "2936   3.00         house   558.0    Plot area 62(51.84 sq.m.)   \n",
       "2937   4.50         house  1152.0  Plot area 128(107.02 sq.m.)   \n",
       "\n",
       "      super_built_up_area  built_up_area  carpet_area  \n",
       "2933                  NaN            NaN          NaN  \n",
       "2934                  NaN            NaN          NaN  \n",
       "2935                  NaN            NaN          NaN  \n",
       "2936                  NaN            NaN          NaN  \n",
       "2937                  NaN            NaN          NaN  "
      ]
     },
     "execution_count": 14,
     "metadata": {},
     "output_type": "execute_result"
    }
   ],
   "source": [
    "# Check the dataset where 'Plot' is mentioned in 'areaWithType' column\n",
    "# checking these coloumns 'price','property_type','area','areaWithType','super_built_up_area','built_up_area','carpet_area'\n",
    "\n",
    "df[df['areaWithType'].str.contains('Plot')][['price','property_type','area','areaWithType','super_built_up_area','built_up_area','carpet_area']].head()\n",
    "\n",
    "# this rows in the dataset belong to 'house' category in 'property_type' feature"
   ]
  },
  {
   "cell_type": "code",
   "execution_count": 15,
   "id": "5b7fca66",
   "metadata": {},
   "outputs": [
    {
     "data": {
      "text/plain": [
       "sector                 3793\n",
       "built_up_area          2608\n",
       "super_built_up_area    1880\n",
       "carpet_area            1855\n",
       "facing                 1098\n",
       "furnishDetails          981\n",
       "features                631\n",
       "nearbyLocations         175\n",
       "price                    18\n",
       "price_per_sqft           18\n",
       "area                     18\n",
       "floorNum                 17\n",
       "agePossession             1\n",
       "property_type             0\n",
       "society                   0\n",
       "balcony                   0\n",
       "bathroom                  0\n",
       "bedRoom                   0\n",
       "areaWithType              0\n",
       "additionalRoom            0\n",
       "dtype: int64"
      ]
     },
     "execution_count": 15,
     "metadata": {},
     "output_type": "execute_result"
    }
   ],
   "source": [
    "# checking the missing values in the dataset\n",
    "df.isnull().sum().sort_values(ascending=False)"
   ]
  },
  {
   "cell_type": "code",
   "execution_count": 16,
   "id": "fe1a9a1f",
   "metadata": {},
   "outputs": [
    {
     "name": "stdout",
     "output_type": "stream",
     "text": [
      "Size of the dataset: (546, 7)\n"
     ]
    }
   ],
   "source": [
    "# considering the dataset where all rows of 'super_built_up_area', 'built_up_area' and 'carpet_area' has missing values\n",
    "all_nan_df = df[(df['super_built_up_area'].isnull()) & (df['built_up_area'].isnull()) & (df['carpet_area'].isnull())][['price', 'property_type', 'area', 'areaWithType', 'super_built_up_area', 'built_up_area', 'carpet_area']]\n",
    "print(f\"Size of the dataset: {all_nan_df.shape}\")"
   ]
  },
  {
   "cell_type": "code",
   "execution_count": 17,
   "id": "f5eee920",
   "metadata": {
    "scrolled": true
   },
   "outputs": [
    {
     "data": {
      "text/html": [
       "<div>\n",
       "<style scoped>\n",
       "    .dataframe tbody tr th:only-of-type {\n",
       "        vertical-align: middle;\n",
       "    }\n",
       "\n",
       "    .dataframe tbody tr th {\n",
       "        vertical-align: top;\n",
       "    }\n",
       "\n",
       "    .dataframe thead th {\n",
       "        text-align: right;\n",
       "    }\n",
       "</style>\n",
       "<table border=\"1\" class=\"dataframe\">\n",
       "  <thead>\n",
       "    <tr style=\"text-align: right;\">\n",
       "      <th></th>\n",
       "      <th>price</th>\n",
       "      <th>property_type</th>\n",
       "      <th>area</th>\n",
       "      <th>areaWithType</th>\n",
       "      <th>super_built_up_area</th>\n",
       "      <th>built_up_area</th>\n",
       "      <th>carpet_area</th>\n",
       "    </tr>\n",
       "  </thead>\n",
       "  <tbody>\n",
       "    <tr>\n",
       "      <th>2933</th>\n",
       "      <td>5.25</td>\n",
       "      <td>house</td>\n",
       "      <td>2610.0</td>\n",
       "      <td>Plot area 290(242.48 sq.m.)</td>\n",
       "      <td>NaN</td>\n",
       "      <td>NaN</td>\n",
       "      <td>NaN</td>\n",
       "    </tr>\n",
       "    <tr>\n",
       "      <th>2934</th>\n",
       "      <td>2.10</td>\n",
       "      <td>house</td>\n",
       "      <td>549.0</td>\n",
       "      <td>Plot area 61(51 sq.m.)</td>\n",
       "      <td>NaN</td>\n",
       "      <td>NaN</td>\n",
       "      <td>NaN</td>\n",
       "    </tr>\n",
       "    <tr>\n",
       "      <th>2935</th>\n",
       "      <td>5.00</td>\n",
       "      <td>house</td>\n",
       "      <td>1161.0</td>\n",
       "      <td>Plot area 129(107.86 sq.m.)</td>\n",
       "      <td>NaN</td>\n",
       "      <td>NaN</td>\n",
       "      <td>NaN</td>\n",
       "    </tr>\n",
       "    <tr>\n",
       "      <th>2936</th>\n",
       "      <td>3.00</td>\n",
       "      <td>house</td>\n",
       "      <td>558.0</td>\n",
       "      <td>Plot area 62(51.84 sq.m.)</td>\n",
       "      <td>NaN</td>\n",
       "      <td>NaN</td>\n",
       "      <td>NaN</td>\n",
       "    </tr>\n",
       "    <tr>\n",
       "      <th>2937</th>\n",
       "      <td>4.50</td>\n",
       "      <td>house</td>\n",
       "      <td>1152.0</td>\n",
       "      <td>Plot area 128(107.02 sq.m.)</td>\n",
       "      <td>NaN</td>\n",
       "      <td>NaN</td>\n",
       "      <td>NaN</td>\n",
       "    </tr>\n",
       "  </tbody>\n",
       "</table>\n",
       "</div>"
      ],
      "text/plain": [
       "      price property_type    area                 areaWithType  \\\n",
       "2933   5.25         house  2610.0  Plot area 290(242.48 sq.m.)   \n",
       "2934   2.10         house   549.0       Plot area 61(51 sq.m.)   \n",
       "2935   5.00         house  1161.0  Plot area 129(107.86 sq.m.)   \n",
       "2936   3.00         house   558.0    Plot area 62(51.84 sq.m.)   \n",
       "2937   4.50         house  1152.0  Plot area 128(107.02 sq.m.)   \n",
       "\n",
       "      super_built_up_area  built_up_area  carpet_area  \n",
       "2933                  NaN            NaN          NaN  \n",
       "2934                  NaN            NaN          NaN  \n",
       "2935                  NaN            NaN          NaN  \n",
       "2936                  NaN            NaN          NaN  \n",
       "2937                  NaN            NaN          NaN  "
      ]
     },
     "execution_count": 17,
     "metadata": {},
     "output_type": "execute_result"
    }
   ],
   "source": [
    "# checking first five rows of the dataset\n",
    "all_nan_df.head()"
   ]
  },
  {
   "cell_type": "code",
   "execution_count": 18,
   "id": "b95a77cc",
   "metadata": {},
   "outputs": [],
   "source": [
    "# storing the index of the rows in 'all_nan_df' dataframe\n",
    "all_nan_index = df[(df['super_built_up_area'].isnull()) & (df['built_up_area'].isnull()) & (df['carpet_area'].isnull())][['price', 'property_type', 'area', 'areaWithType', 'super_built_up_area', 'built_up_area', 'carpet_area']].index"
   ]
  },
  {
   "cell_type": "code",
   "execution_count": 19,
   "id": "a849e505",
   "metadata": {},
   "outputs": [],
   "source": [
    "# function to extract the plot area from the 'areaWithType' column \n",
    "def extract_plot_area(area_with_type:str):\n",
    "    match = re.search(r'Plot area (\\d+\\.?\\d*)', area_with_type)\n",
    "    return float(match.group(1)) if match else None"
   ]
  },
  {
   "cell_type": "code",
   "execution_count": 20,
   "id": "139f7442",
   "metadata": {},
   "outputs": [],
   "source": [
    "# applying the above function on 'areaWithType' column\n",
    "# we will consider 'Plot area' as 'built_up_area'\n",
    "\n",
    "all_nan_df['built_up_area'] = all_nan_df['areaWithType'].apply(extract_plot_area)"
   ]
  },
  {
   "cell_type": "code",
   "execution_count": 21,
   "id": "f48a5e44",
   "metadata": {
    "scrolled": true
   },
   "outputs": [
    {
     "data": {
      "text/html": [
       "<div>\n",
       "<style scoped>\n",
       "    .dataframe tbody tr th:only-of-type {\n",
       "        vertical-align: middle;\n",
       "    }\n",
       "\n",
       "    .dataframe tbody tr th {\n",
       "        vertical-align: top;\n",
       "    }\n",
       "\n",
       "    .dataframe thead th {\n",
       "        text-align: right;\n",
       "    }\n",
       "</style>\n",
       "<table border=\"1\" class=\"dataframe\">\n",
       "  <thead>\n",
       "    <tr style=\"text-align: right;\">\n",
       "      <th></th>\n",
       "      <th>price</th>\n",
       "      <th>property_type</th>\n",
       "      <th>area</th>\n",
       "      <th>areaWithType</th>\n",
       "      <th>super_built_up_area</th>\n",
       "      <th>built_up_area</th>\n",
       "      <th>carpet_area</th>\n",
       "    </tr>\n",
       "  </thead>\n",
       "  <tbody>\n",
       "    <tr>\n",
       "      <th>2933</th>\n",
       "      <td>5.25</td>\n",
       "      <td>house</td>\n",
       "      <td>2610.0</td>\n",
       "      <td>Plot area 290(242.48 sq.m.)</td>\n",
       "      <td>NaN</td>\n",
       "      <td>290.0</td>\n",
       "      <td>NaN</td>\n",
       "    </tr>\n",
       "    <tr>\n",
       "      <th>2934</th>\n",
       "      <td>2.10</td>\n",
       "      <td>house</td>\n",
       "      <td>549.0</td>\n",
       "      <td>Plot area 61(51 sq.m.)</td>\n",
       "      <td>NaN</td>\n",
       "      <td>61.0</td>\n",
       "      <td>NaN</td>\n",
       "    </tr>\n",
       "    <tr>\n",
       "      <th>2935</th>\n",
       "      <td>5.00</td>\n",
       "      <td>house</td>\n",
       "      <td>1161.0</td>\n",
       "      <td>Plot area 129(107.86 sq.m.)</td>\n",
       "      <td>NaN</td>\n",
       "      <td>129.0</td>\n",
       "      <td>NaN</td>\n",
       "    </tr>\n",
       "    <tr>\n",
       "      <th>2936</th>\n",
       "      <td>3.00</td>\n",
       "      <td>house</td>\n",
       "      <td>558.0</td>\n",
       "      <td>Plot area 62(51.84 sq.m.)</td>\n",
       "      <td>NaN</td>\n",
       "      <td>62.0</td>\n",
       "      <td>NaN</td>\n",
       "    </tr>\n",
       "    <tr>\n",
       "      <th>2937</th>\n",
       "      <td>4.50</td>\n",
       "      <td>house</td>\n",
       "      <td>1152.0</td>\n",
       "      <td>Plot area 128(107.02 sq.m.)</td>\n",
       "      <td>NaN</td>\n",
       "      <td>128.0</td>\n",
       "      <td>NaN</td>\n",
       "    </tr>\n",
       "  </tbody>\n",
       "</table>\n",
       "</div>"
      ],
      "text/plain": [
       "      price property_type    area                 areaWithType  \\\n",
       "2933   5.25         house  2610.0  Plot area 290(242.48 sq.m.)   \n",
       "2934   2.10         house   549.0       Plot area 61(51 sq.m.)   \n",
       "2935   5.00         house  1161.0  Plot area 129(107.86 sq.m.)   \n",
       "2936   3.00         house   558.0    Plot area 62(51.84 sq.m.)   \n",
       "2937   4.50         house  1152.0  Plot area 128(107.02 sq.m.)   \n",
       "\n",
       "      super_built_up_area  built_up_area  carpet_area  \n",
       "2933                  NaN          290.0          NaN  \n",
       "2934                  NaN           61.0          NaN  \n",
       "2935                  NaN          129.0          NaN  \n",
       "2936                  NaN           62.0          NaN  \n",
       "2937                  NaN          128.0          NaN  "
      ]
     },
     "execution_count": 21,
     "metadata": {},
     "output_type": "execute_result"
    }
   ],
   "source": [
    "# checking some sample rows from 'all_nan_df'\n",
    "all_nan_df.head(5)"
   ]
  },
  {
   "cell_type": "code",
   "execution_count": 22,
   "id": "cd9f9e96",
   "metadata": {},
   "outputs": [],
   "source": [
    "# converting the scale of 'built_up_area' column where 'property_type' is 'house'\n",
    "# as some values mentioned in the dataset has unit of measurement as  yard and some values are in meters\n",
    "# we will keep the unit standard, to 'sqft'\n",
    "# the difference can be obeserved when we check the value of 'area' and 'built_up_area' in the same row\n",
    "\n",
    "def convert_scale(row):\n",
    "    if np.isnan(row['area']) or np.isnan(row['built_up_area']):\n",
    "        return row['built_up_area']\n",
    "    \n",
    "    else:\n",
    "        if round(row['area']/row['built_up_area']) == 9.0:\n",
    "            return row['built_up_area'] * 9\n",
    "        \n",
    "        elif round(row['area']/row['built_up_area']) == 11.0:\n",
    "            return row['built_up_area'] * 10.7\n",
    "        \n",
    "        else:\n",
    "            return row['built_up_area']"
   ]
  },
  {
   "cell_type": "code",
   "execution_count": 23,
   "id": "795b5ebc",
   "metadata": {},
   "outputs": [],
   "source": [
    "# applying the above function on 'all_nan_df'\n",
    "all_nan_df['built_up_area'] = all_nan_df.apply(convert_scale, axis=1)"
   ]
  },
  {
   "cell_type": "code",
   "execution_count": 24,
   "id": "950778eb",
   "metadata": {},
   "outputs": [
    {
     "data": {
      "text/html": [
       "<div>\n",
       "<style scoped>\n",
       "    .dataframe tbody tr th:only-of-type {\n",
       "        vertical-align: middle;\n",
       "    }\n",
       "\n",
       "    .dataframe tbody tr th {\n",
       "        vertical-align: top;\n",
       "    }\n",
       "\n",
       "    .dataframe thead th {\n",
       "        text-align: right;\n",
       "    }\n",
       "</style>\n",
       "<table border=\"1\" class=\"dataframe\">\n",
       "  <thead>\n",
       "    <tr style=\"text-align: right;\">\n",
       "      <th></th>\n",
       "      <th>price</th>\n",
       "      <th>property_type</th>\n",
       "      <th>area</th>\n",
       "      <th>areaWithType</th>\n",
       "      <th>super_built_up_area</th>\n",
       "      <th>built_up_area</th>\n",
       "      <th>carpet_area</th>\n",
       "    </tr>\n",
       "  </thead>\n",
       "  <tbody>\n",
       "    <tr>\n",
       "      <th>2933</th>\n",
       "      <td>5.25</td>\n",
       "      <td>house</td>\n",
       "      <td>2610.0</td>\n",
       "      <td>Plot area 290(242.48 sq.m.)</td>\n",
       "      <td>NaN</td>\n",
       "      <td>2610.0</td>\n",
       "      <td>NaN</td>\n",
       "    </tr>\n",
       "    <tr>\n",
       "      <th>2934</th>\n",
       "      <td>2.10</td>\n",
       "      <td>house</td>\n",
       "      <td>549.0</td>\n",
       "      <td>Plot area 61(51 sq.m.)</td>\n",
       "      <td>NaN</td>\n",
       "      <td>549.0</td>\n",
       "      <td>NaN</td>\n",
       "    </tr>\n",
       "    <tr>\n",
       "      <th>2935</th>\n",
       "      <td>5.00</td>\n",
       "      <td>house</td>\n",
       "      <td>1161.0</td>\n",
       "      <td>Plot area 129(107.86 sq.m.)</td>\n",
       "      <td>NaN</td>\n",
       "      <td>1161.0</td>\n",
       "      <td>NaN</td>\n",
       "    </tr>\n",
       "    <tr>\n",
       "      <th>2936</th>\n",
       "      <td>3.00</td>\n",
       "      <td>house</td>\n",
       "      <td>558.0</td>\n",
       "      <td>Plot area 62(51.84 sq.m.)</td>\n",
       "      <td>NaN</td>\n",
       "      <td>558.0</td>\n",
       "      <td>NaN</td>\n",
       "    </tr>\n",
       "    <tr>\n",
       "      <th>2937</th>\n",
       "      <td>4.50</td>\n",
       "      <td>house</td>\n",
       "      <td>1152.0</td>\n",
       "      <td>Plot area 128(107.02 sq.m.)</td>\n",
       "      <td>NaN</td>\n",
       "      <td>1152.0</td>\n",
       "      <td>NaN</td>\n",
       "    </tr>\n",
       "  </tbody>\n",
       "</table>\n",
       "</div>"
      ],
      "text/plain": [
       "      price property_type    area                 areaWithType  \\\n",
       "2933   5.25         house  2610.0  Plot area 290(242.48 sq.m.)   \n",
       "2934   2.10         house   549.0       Plot area 61(51 sq.m.)   \n",
       "2935   5.00         house  1161.0  Plot area 129(107.86 sq.m.)   \n",
       "2936   3.00         house   558.0    Plot area 62(51.84 sq.m.)   \n",
       "2937   4.50         house  1152.0  Plot area 128(107.02 sq.m.)   \n",
       "\n",
       "      super_built_up_area  built_up_area  carpet_area  \n",
       "2933                  NaN         2610.0          NaN  \n",
       "2934                  NaN          549.0          NaN  \n",
       "2935                  NaN         1161.0          NaN  \n",
       "2936                  NaN          558.0          NaN  \n",
       "2937                  NaN         1152.0          NaN  "
      ]
     },
     "execution_count": 24,
     "metadata": {},
     "output_type": "execute_result"
    }
   ],
   "source": [
    "# checking the dataset\n",
    "all_nan_df.head()"
   ]
  },
  {
   "cell_type": "code",
   "execution_count": 25,
   "id": "fe36149d",
   "metadata": {},
   "outputs": [],
   "source": [
    "# update the original dataframe\n",
    "df.update(all_nan_df)"
   ]
  },
  {
   "cell_type": "code",
   "execution_count": 26,
   "id": "05eb3fb5",
   "metadata": {},
   "outputs": [
    {
     "data": {
      "text/plain": [
       "sector                 3793\n",
       "built_up_area          2062\n",
       "super_built_up_area    1880\n",
       "carpet_area            1855\n",
       "facing                 1098\n",
       "furnishDetails          981\n",
       "features                631\n",
       "nearbyLocations         175\n",
       "price                    18\n",
       "price_per_sqft           18\n",
       "area                     18\n",
       "floorNum                 17\n",
       "agePossession             1\n",
       "property_type             0\n",
       "society                   0\n",
       "balcony                   0\n",
       "bathroom                  0\n",
       "bedRoom                   0\n",
       "areaWithType              0\n",
       "additionalRoom            0\n",
       "dtype: int64"
      ]
     },
     "execution_count": 26,
     "metadata": {},
     "output_type": "execute_result"
    }
   ],
   "source": [
    "# checking the missing values in the dataset\n",
    "df.isnull().sum().sort_values(ascending=False)"
   ]
  },
  {
   "cell_type": "markdown",
   "id": "f44c3ddc",
   "metadata": {},
   "source": [
    "## 1. additionalRoom"
   ]
  },
  {
   "cell_type": "code",
   "execution_count": 27,
   "id": "bc4d2ca6",
   "metadata": {
    "scrolled": true
   },
   "outputs": [
    {
     "data": {
      "text/plain": [
       "additionalRoom\n",
       "not available                                    1581\n",
       "servant room                                      704\n",
       "study room                                        248\n",
       "others                                            224\n",
       "pooja room                                        165\n",
       "study room,servant room                            99\n",
       "store room                                         99\n",
       "pooja room,servant room                            82\n",
       "pooja room,study room,servant room,store room      72\n",
       "servant room,others                                60\n",
       "pooja room,study room,servant room                 55\n",
       "pooja room,study room,servant room,others          54\n",
       "servant room,pooja room                            38\n",
       "servant room,store room                            33\n",
       "study room,others                                  29\n",
       "pooja room,study room                              22\n",
       "pooja room,others                                  17\n",
       "pooja room,store room                              15\n",
       "servant room,study room                            12\n",
       "pooja room,store room,study room,servant room      12\n",
       "pooja room,servant room,others                     11\n",
       "study room,servant room,store room                 11\n",
       "study room,pooja room                              10\n",
       "servant room,study room,pooja room,store room      10\n",
       "study room,servant room,pooja room,store room       8\n",
       "store room,servant room                             8\n",
       "study room,pooja room,servant room                  7\n",
       "study room,servant room,others                      7\n",
       "pooja room,study room,store room                    7\n",
       "pooja room,servant room,store room                  7\n",
       "servant room,pooja room,store room                  6\n",
       "others,servant room                                 6\n",
       "store room,pooja room                               5\n",
       "pooja room,servant room,study room,store room       5\n",
       "study room,servant room,store room,pooja room       5\n",
       "pooja room,study room,others                        4\n",
       "servant room,store room,pooja room                  4\n",
       "study room,pooja room,store room                    4\n",
       "study room,servant room,pooja room                  4\n",
       "servant room,pooja room,study room,store room       3\n",
       "study room,pooja room,servant room,store room       3\n",
       "servant room,others,pooja room                      3\n",
       "servant room,study room,pooja room                  3\n",
       "pooja room,study room,store room,servant room       3\n",
       "store room,pooja room,servant room                  2\n",
       "study room,store room                               2\n",
       "store room,pooja room,study room                    2\n",
       "study room,pooja room,store room,servant room       2\n",
       "servant room,others,store room,pooja room           2\n",
       "servant room,study room,store room                  2\n",
       "store room,pooja room,study room,servant room       2\n",
       "pooja room,store room,servant room                  1\n",
       "store room,pooja room,servant room,study room       1\n",
       "store room,study room,servant room                  1\n",
       "store room,servant room,study room,pooja room       1\n",
       "store room,servant room,pooja room                  1\n",
       "servant room,store room,study room,pooja room       1\n",
       "store room,study room                               1\n",
       "study room,store room,pooja room                    1\n",
       "servant room,study room,store room,pooja room       1\n",
       "servant room,study room,others                      1\n",
       "others,study room                                   1\n",
       "servant room,pooja room,study room                  1\n",
       "servant room,pooja room,store room,study room       1\n",
       "study room,others,servant room                      1\n",
       "Name: count, dtype: int64"
      ]
     },
     "execution_count": 27,
     "metadata": {},
     "output_type": "execute_result"
    }
   ],
   "source": [
    "# checking the unique values in the 'additionalRoom' column\n",
    "df['additionalRoom'].value_counts()"
   ]
  },
  {
   "cell_type": "code",
   "execution_count": 28,
   "id": "e4bb1877",
   "metadata": {},
   "outputs": [],
   "source": [
    "# saving all the unqiue values in 'additionalRoom' column\n",
    "all_values_additional_room = df['additionalRoom'].value_counts().index\n",
    "\n",
    "# fetching unique values\n",
    "\n",
    "# create a set of unique values\n",
    "unique_additional_room = set()\n",
    "\n",
    "for index, room in enumerate(all_values_additional_room):\n",
    "    if room not in unique_additional_room:\n",
    "        if ',' not in room:\n",
    "            unique_additional_room.add(room)\n",
    "        else:\n",
    "            unique_room_names = set(room.split(','))\n",
    "            unique_additional_room.update(unique_room_names)"
   ]
  },
  {
   "cell_type": "code",
   "execution_count": 29,
   "id": "0108a152",
   "metadata": {},
   "outputs": [
    {
     "name": "stdout",
     "output_type": "stream",
     "text": [
      "Unique values in the 'additionaRoom' column:\n",
      "{'servant room', 'not available', 'pooja room', 'study room', 'others', 'store room'}\n"
     ]
    }
   ],
   "source": [
    "# unique values \n",
    "print(f\"Unique values in the 'additionaRoom' column:\\n{unique_additional_room}\")"
   ]
  },
  {
   "cell_type": "code",
   "execution_count": 30,
   "id": "0a2b5258",
   "metadata": {},
   "outputs": [],
   "source": [
    "# populate the new columns based on unique values in the 'additionRoom' column\n",
    "for col in unique_additional_room:\n",
    "    df[col] = df['additionalRoom'].str.contains(col).astype(int)"
   ]
  },
  {
   "cell_type": "code",
   "execution_count": 31,
   "id": "6be7ef8b",
   "metadata": {
    "scrolled": true
   },
   "outputs": [
    {
     "data": {
      "text/html": [
       "<div>\n",
       "<style scoped>\n",
       "    .dataframe tbody tr th:only-of-type {\n",
       "        vertical-align: middle;\n",
       "    }\n",
       "\n",
       "    .dataframe tbody tr th {\n",
       "        vertical-align: top;\n",
       "    }\n",
       "\n",
       "    .dataframe thead th {\n",
       "        text-align: right;\n",
       "    }\n",
       "</style>\n",
       "<table border=\"1\" class=\"dataframe\">\n",
       "  <thead>\n",
       "    <tr style=\"text-align: right;\">\n",
       "      <th></th>\n",
       "      <th>additionalRoom</th>\n",
       "      <th>pooja room</th>\n",
       "      <th>store room</th>\n",
       "      <th>not available</th>\n",
       "      <th>servant room</th>\n",
       "      <th>study room</th>\n",
       "      <th>others</th>\n",
       "    </tr>\n",
       "  </thead>\n",
       "  <tbody>\n",
       "    <tr>\n",
       "      <th>3603</th>\n",
       "      <td>pooja room,servant room</td>\n",
       "      <td>1</td>\n",
       "      <td>0</td>\n",
       "      <td>0</td>\n",
       "      <td>1</td>\n",
       "      <td>0</td>\n",
       "      <td>0</td>\n",
       "    </tr>\n",
       "    <tr>\n",
       "      <th>1082</th>\n",
       "      <td>not available</td>\n",
       "      <td>0</td>\n",
       "      <td>0</td>\n",
       "      <td>1</td>\n",
       "      <td>0</td>\n",
       "      <td>0</td>\n",
       "      <td>0</td>\n",
       "    </tr>\n",
       "    <tr>\n",
       "      <th>2632</th>\n",
       "      <td>not available</td>\n",
       "      <td>0</td>\n",
       "      <td>0</td>\n",
       "      <td>1</td>\n",
       "      <td>0</td>\n",
       "      <td>0</td>\n",
       "      <td>0</td>\n",
       "    </tr>\n",
       "    <tr>\n",
       "      <th>1747</th>\n",
       "      <td>not available</td>\n",
       "      <td>0</td>\n",
       "      <td>0</td>\n",
       "      <td>1</td>\n",
       "      <td>0</td>\n",
       "      <td>0</td>\n",
       "      <td>0</td>\n",
       "    </tr>\n",
       "    <tr>\n",
       "      <th>2304</th>\n",
       "      <td>not available</td>\n",
       "      <td>0</td>\n",
       "      <td>0</td>\n",
       "      <td>1</td>\n",
       "      <td>0</td>\n",
       "      <td>0</td>\n",
       "      <td>0</td>\n",
       "    </tr>\n",
       "  </tbody>\n",
       "</table>\n",
       "</div>"
      ],
      "text/plain": [
       "               additionalRoom  pooja room  store room  not available  \\\n",
       "3603  pooja room,servant room           1           0              0   \n",
       "1082            not available           0           0              1   \n",
       "2632            not available           0           0              1   \n",
       "1747            not available           0           0              1   \n",
       "2304            not available           0           0              1   \n",
       "\n",
       "      servant room  study room  others  \n",
       "3603             1           0       0  \n",
       "1082             0           0       0  \n",
       "2632             0           0       0  \n",
       "1747             0           0       0  \n",
       "2304             0           0       0  "
      ]
     },
     "execution_count": 31,
     "metadata": {},
     "output_type": "execute_result"
    }
   ],
   "source": [
    "# checking the few rows after populating new columns\n",
    "df[['additionalRoom', 'pooja room', 'store room', 'not available', 'servant room', 'study room', 'others']].sample(5)"
   ]
  },
  {
   "cell_type": "markdown",
   "id": "42342009",
   "metadata": {},
   "source": [
    "## 3.agePossession"
   ]
  },
  {
   "cell_type": "code",
   "execution_count": 32,
   "id": "2a304f46",
   "metadata": {},
   "outputs": [
    {
     "data": {
      "text/plain": [
       "agePossession\n",
       "1 to 5 Year Old       1672\n",
       "5 to 10 Year Old       573\n",
       "0 to 1 Year Old        529\n",
       "undefined              332\n",
       "10+ Year Old           309\n",
       "Under Construction      88\n",
       "Within 6 months         70\n",
       "Within 3 months         26\n",
       "Dec 2023                22\n",
       "By 2023                 19\n",
       "By 2024                 17\n",
       "Dec 2024                16\n",
       "Mar 2024                14\n",
       "Oct 2024                 8\n",
       "Jan 2024                 8\n",
       "Aug 2023                 7\n",
       "Dec 2025                 7\n",
       "Jun 2024                 7\n",
       "Nov 2023                 5\n",
       "Aug 2024                 4\n",
       "Sep 2023                 4\n",
       "Jul 2024                 4\n",
       "Oct 2023                 4\n",
       "By 2025                  4\n",
       "May 2024                 3\n",
       "Feb 2024                 3\n",
       "Jan 2025                 3\n",
       "Nov 2024                 3\n",
       "Jul 2025                 2\n",
       "Jun 2027                 2\n",
       "Mar 2025                 2\n",
       "Jan 2026                 2\n",
       "Aug 2025                 2\n",
       "Oct 2025                 2\n",
       "By 2027                  2\n",
       "Jul 2027                 2\n",
       "Apr 2026                 2\n",
       "Dec 2026                 2\n",
       "Sep 2025                 2\n",
       "Nov 2025                 1\n",
       "Jul 2026                 1\n",
       "Jan 2027                 1\n",
       "Sep 2027                 1\n",
       "Jun 2025                 1\n",
       "Jan 2028                 1\n",
       "Aug 2026                 1\n",
       "Mar 2026                 1\n",
       "Apr 2024                 1\n",
       "Name: count, dtype: int64"
      ]
     },
     "execution_count": 32,
     "metadata": {},
     "output_type": "execute_result"
    }
   ],
   "source": [
    "# unqiue values in \"agePossession\" column\n",
    "df['agePossession'].value_counts()"
   ]
  },
  {
   "cell_type": "code",
   "execution_count": 33,
   "id": "2d651071",
   "metadata": {},
   "outputs": [],
   "source": [
    "# properly categorising the 'agePossession' column\n",
    "\n",
    "def categorize_age_possession(value):\n",
    "    if pd.isna(value):\n",
    "        return \"Undefined\"\n",
    "    if \"0 to 1 Year Old\" in value or \"Within 6 months\" in value or \"Within 3 months\" in value:\n",
    "        return \"New Property\"\n",
    "    if \"1 to 5 Year Old\" in value:\n",
    "        return \"Relatively New\"\n",
    "    if \"5 to 10 Year Old\" in value:\n",
    "        return \"Moderately New\"\n",
    "    if \"10+ Year Old\" in value:\n",
    "        return \"Old Property\"\n",
    "    if \"Under Construction\" in value or \"By\" in value:\n",
    "        return \"Under Construction\"\n",
    "    try:\n",
    "        # for entries like 'May 2024'\n",
    "        int(value.split(\" \")[-1])\n",
    "        return \"Under Construction\"\n",
    "    except:\n",
    "        return \"Undefined\""
   ]
  },
  {
   "cell_type": "code",
   "execution_count": 34,
   "id": "43edde0b",
   "metadata": {},
   "outputs": [],
   "source": [
    "# applying the above function on 'agePossession' column\n",
    "df['agePossession'] = df['agePossession'].apply(categorize_age_possession)"
   ]
  },
  {
   "cell_type": "code",
   "execution_count": 35,
   "id": "268420c2",
   "metadata": {},
   "outputs": [
    {
     "data": {
      "text/plain": [
       "agePossession\n",
       "Relatively New        1672\n",
       "New Property           625\n",
       "Moderately New         573\n",
       "Undefined              333\n",
       "Old Property           309\n",
       "Under Construction     281\n",
       "Name: count, dtype: int64"
      ]
     },
     "execution_count": 35,
     "metadata": {},
     "output_type": "execute_result"
    }
   ],
   "source": [
    "# checking the update\n",
    "df['agePossession'].value_counts()"
   ]
  },
  {
   "cell_type": "markdown",
   "id": "50d0e239",
   "metadata": {},
   "source": [
    "## 4.FurnishDetails"
   ]
  },
  {
   "cell_type": "code",
   "execution_count": 36,
   "id": "0671910f",
   "metadata": {},
   "outputs": [
    {
     "data": {
      "text/html": [
       "<div>\n",
       "<style scoped>\n",
       "    .dataframe tbody tr th:only-of-type {\n",
       "        vertical-align: middle;\n",
       "    }\n",
       "\n",
       "    .dataframe tbody tr th {\n",
       "        vertical-align: top;\n",
       "    }\n",
       "\n",
       "    .dataframe thead th {\n",
       "        text-align: right;\n",
       "    }\n",
       "</style>\n",
       "<table border=\"1\" class=\"dataframe\">\n",
       "  <thead>\n",
       "    <tr style=\"text-align: right;\">\n",
       "      <th></th>\n",
       "      <th>furnishDetails</th>\n",
       "      <th>features</th>\n",
       "    </tr>\n",
       "  </thead>\n",
       "  <tbody>\n",
       "    <tr>\n",
       "      <th>1182</th>\n",
       "      <td>NaN</td>\n",
       "      <td>['Security / Fire Alarm', 'Power Back-up', 'Feng Shui / Vaastu Compliant', 'Intercom Facility', 'Lift(s)', 'Maintenance Staff', 'Water Storage', 'Separate entry for servant room', 'Recently Renovated', 'Bank Attached Property', 'Piped-gas', 'Visitor Parking', 'Park', 'Security Personnel', 'Natural Light', 'Internet/wi-fi connectivity', 'Waste Disposal', 'Rain Water Harvesting']</td>\n",
       "    </tr>\n",
       "    <tr>\n",
       "      <th>730</th>\n",
       "      <td>['3 Wardrobe', '1 Water Purifier', '11 Fan', '1 Exhaust Fan', '3 Geyser', '20 Light', '1 Modular Kitchen', '1 Chimney', '1 Curtains', 'No AC', 'No Bed', 'No Dining Table', 'No Microwave', 'No Fridge', 'No Sofa', 'No Stove', 'No TV', 'No Washing Machine']</td>\n",
       "      <td>['Centrally Air Conditioned', 'Water purifier', 'Security / Fire Alarm', 'Feng Shui / Vaastu Compliant', 'Private Garden / Terrace', 'Intercom Facility', 'Lift(s)', 'High Ceiling Height', 'Maintenance Staff', 'False Ceiling Lighting', 'Water Storage', 'Separate entry for servant room', 'No open drainage around', 'Bank Attached Property', 'Piped-gas', 'Internet/wi-fi connectivity', 'Recently Renovated', 'Visitor Parking', 'Swimming Pool', 'Park', 'Security Personnel', 'Natural Light', 'Airy Rooms', 'Spacious Interiors', 'Low Density Society', 'Waste Disposal', 'Rain Water Harvesting', 'Water softening plant', 'Shopping Centre', 'Fitness Centre / GYM', 'Club house / Community Center']</td>\n",
       "    </tr>\n",
       "    <tr>\n",
       "      <th>3151</th>\n",
       "      <td>NaN</td>\n",
       "      <td>NaN</td>\n",
       "    </tr>\n",
       "    <tr>\n",
       "      <th>94</th>\n",
       "      <td>['1 Modular Kitchen', 'No AC', 'No Bed', 'No Chimney', 'No Curtains', 'No Dining Table', 'No Exhaust Fan', 'No Fan', 'No Geyser', 'No Light', 'No Microwave', 'No Fridge', 'No Sofa', 'No Stove', 'No TV', 'No Wardrobe', 'No Washing Machine', 'No Water Purifier']</td>\n",
       "      <td>['Feng Shui / Vaastu Compliant', 'Security / Fire Alarm', 'Intercom Facility', 'Lift(s)', 'Park', 'Visitor Parking']</td>\n",
       "    </tr>\n",
       "    <tr>\n",
       "      <th>518</th>\n",
       "      <td>['4 Wardrobe', '6 Fan', '1 Fridge', '5 Geyser', '1 Washing Machine', '1 Stove', '1 Microwave', '4 Curtains', '1 Modular Kitchen', '6 AC', 'No Bed', 'No Chimney', 'No Dining Table', 'No Exhaust Fan', 'No Light', 'No Sofa', 'No TV', 'No Water Purifier']</td>\n",
       "      <td>['Centrally Air Conditioned', 'Water purifier', 'Security / Fire Alarm', 'Feng Shui / Vaastu Compliant', 'Private Garden / Terrace', 'Intercom Facility', 'Lift(s)', 'High Ceiling Height', 'Maintenance Staff', 'False Ceiling Lighting', 'Water Storage', 'Separate entry for servant room', 'No open drainage around', 'Bank Attached Property', 'Piped-gas', 'Internet/wi-fi connectivity', 'Recently Renovated', 'Visitor Parking', 'Swimming Pool', 'Park', 'Security Personnel', 'Natural Light', 'Airy Rooms', 'Spacious Interiors', 'Low Density Society', 'Waste Disposal', 'Rain Water Harvesting', 'Water softening plant', 'Shopping Centre', 'Fitness Centre / GYM', 'Club house / Community Center']</td>\n",
       "    </tr>\n",
       "  </tbody>\n",
       "</table>\n",
       "</div>"
      ],
      "text/plain": [
       "                                                                                                                                                                                                                                                            furnishDetails  \\\n",
       "1182                                                                                                                                                                                                                                                                   NaN   \n",
       "730         ['3 Wardrobe', '1 Water Purifier', '11 Fan', '1 Exhaust Fan', '3 Geyser', '20 Light', '1 Modular Kitchen', '1 Chimney', '1 Curtains', 'No AC', 'No Bed', 'No Dining Table', 'No Microwave', 'No Fridge', 'No Sofa', 'No Stove', 'No TV', 'No Washing Machine']   \n",
       "3151                                                                                                                                                                                                                                                                   NaN   \n",
       "94    ['1 Modular Kitchen', 'No AC', 'No Bed', 'No Chimney', 'No Curtains', 'No Dining Table', 'No Exhaust Fan', 'No Fan', 'No Geyser', 'No Light', 'No Microwave', 'No Fridge', 'No Sofa', 'No Stove', 'No TV', 'No Wardrobe', 'No Washing Machine', 'No Water Purifier']   \n",
       "518            ['4 Wardrobe', '6 Fan', '1 Fridge', '5 Geyser', '1 Washing Machine', '1 Stove', '1 Microwave', '4 Curtains', '1 Modular Kitchen', '6 AC', 'No Bed', 'No Chimney', 'No Dining Table', 'No Exhaust Fan', 'No Light', 'No Sofa', 'No TV', 'No Water Purifier']   \n",
       "\n",
       "                                                                                                                                                                                                                                                                                                                                                                                                                                                                                                                                                                                                                                                                                                                 features  \n",
       "1182                                                                                                                                                                                                                                                                                                                         ['Security / Fire Alarm', 'Power Back-up', 'Feng Shui / Vaastu Compliant', 'Intercom Facility', 'Lift(s)', 'Maintenance Staff', 'Water Storage', 'Separate entry for servant room', 'Recently Renovated', 'Bank Attached Property', 'Piped-gas', 'Visitor Parking', 'Park', 'Security Personnel', 'Natural Light', 'Internet/wi-fi connectivity', 'Waste Disposal', 'Rain Water Harvesting']  \n",
       "730   ['Centrally Air Conditioned', 'Water purifier', 'Security / Fire Alarm', 'Feng Shui / Vaastu Compliant', 'Private Garden / Terrace', 'Intercom Facility', 'Lift(s)', 'High Ceiling Height', 'Maintenance Staff', 'False Ceiling Lighting', 'Water Storage', 'Separate entry for servant room', 'No open drainage around', 'Bank Attached Property', 'Piped-gas', 'Internet/wi-fi connectivity', 'Recently Renovated', 'Visitor Parking', 'Swimming Pool', 'Park', 'Security Personnel', 'Natural Light', 'Airy Rooms', 'Spacious Interiors', 'Low Density Society', 'Waste Disposal', 'Rain Water Harvesting', 'Water softening plant', 'Shopping Centre', 'Fitness Centre / GYM', 'Club house / Community Center']  \n",
       "3151                                                                                                                                                                                                                                                                                                                                                                                                                                                                                                                                                                                                                                                                                                                  NaN  \n",
       "94                                                                                                                                                                                                                                                                                                                                                                                                                                                                                                                                                                                                   ['Feng Shui / Vaastu Compliant', 'Security / Fire Alarm', 'Intercom Facility', 'Lift(s)', 'Park', 'Visitor Parking']  \n",
       "518   ['Centrally Air Conditioned', 'Water purifier', 'Security / Fire Alarm', 'Feng Shui / Vaastu Compliant', 'Private Garden / Terrace', 'Intercom Facility', 'Lift(s)', 'High Ceiling Height', 'Maintenance Staff', 'False Ceiling Lighting', 'Water Storage', 'Separate entry for servant room', 'No open drainage around', 'Bank Attached Property', 'Piped-gas', 'Internet/wi-fi connectivity', 'Recently Renovated', 'Visitor Parking', 'Swimming Pool', 'Park', 'Security Personnel', 'Natural Light', 'Airy Rooms', 'Spacious Interiors', 'Low Density Society', 'Waste Disposal', 'Rain Water Harvesting', 'Water softening plant', 'Shopping Centre', 'Fitness Centre / GYM', 'Club house / Community Center']  "
      ]
     },
     "execution_count": 36,
     "metadata": {},
     "output_type": "execute_result"
    }
   ],
   "source": [
    "# checking few rows from 'furnishDetails' and 'features' columns\n",
    "df[['furnishDetails', 'features']].sample(5)"
   ]
  },
  {
   "cell_type": "code",
   "execution_count": 37,
   "id": "3cb2ac80",
   "metadata": {},
   "outputs": [],
   "source": [
    "# Extract all unique furnishings from 'furnishDetails' column\n",
    "all_furnishings = []\n",
    "for detail in df['furnishDetails'].dropna():\n",
    "    furnishings = detail.replace('[', '').replace(']', '').replace(\"'\", '').split(', ')\n",
    "    all_furnishings.extend(furnishings)\n",
    "    \n",
    "unique_furnishings = list(set(all_furnishings))"
   ]
  },
  {
   "cell_type": "code",
   "execution_count": 38,
   "id": "3c808515",
   "metadata": {},
   "outputs": [],
   "source": [
    "# Define a function to extract the count of a furnishings from the furnishingDetails\n",
    "def get_furnishing_count(details, furnishing):\n",
    "    # Check for explicit absence of the furnishing\n",
    "    if isinstance(details, str):\n",
    "        if f\"No {furnishing}\" in details:\n",
    "            return 0\n",
    "        # Compile a regular expression pattern to match the furnishing count\n",
    "        pattern = re.compile(rf\"(\\d+) {furnishing}\")  # Use f-string for safer formatting\n",
    "        \n",
    "        # Search for the pattern and extract the count\n",
    "        match = pattern.search(details)\n",
    "        if match:\n",
    "            return int(match.group(1))\n",
    "        \n",
    "         # Check for simple presence (without count)\n",
    "        elif furnishing in details:\n",
    "            return 1\n",
    "    \n",
    "    # No match found\n",
    "    return 0\n",
    "\n",
    "\n",
    "# simplifying the furnishings list by removing 'No' prefix and numbers\n",
    "columns_to_include = [re.sub(r'No |\\d+', '', furnishing).strip() for furnishing in unique_furnishings]\n",
    "\n",
    "# Getting unique furnishings\n",
    "columns_to_include = list(set(columns_to_include))\n",
    "\n",
    "# removing empty string\n",
    "columns_to_include = [furnishing for furnishing in columns_to_include if furnishing]\n",
    "\n",
    "# create new column for each unique furnishing and populate with counts\n",
    "for furnishings in columns_to_include:\n",
    "    df[furnishings] = df['furnishDetails'].apply(lambda x: get_furnishing_count(x, furnishings))\n",
    "    \n",
    "# create a new dataframe with the required columns \n",
    "furnishings_df = df[['furnishDetails'] + columns_to_include]"
   ]
  },
  {
   "cell_type": "code",
   "execution_count": 39,
   "id": "e8510f66",
   "metadata": {},
   "outputs": [
    {
     "name": "stdout",
     "output_type": "stream",
     "text": [
      "furnishings_df shape: (3793, 19)\n"
     ]
    }
   ],
   "source": [
    "# checking the shape of the dataframe\n",
    "print(f\"furnishings_df shape: {furnishings_df.shape}\")"
   ]
  },
  {
   "cell_type": "code",
   "execution_count": 40,
   "id": "9d404c3f",
   "metadata": {},
   "outputs": [],
   "source": [
    "# dropping the column 'furnishDeatils' from 'furnishings_df'\n",
    "furnishings_df.drop(columns=['furnishDetails'], inplace=True)"
   ]
  },
  {
   "cell_type": "code",
   "execution_count": 41,
   "id": "00ad4e4c",
   "metadata": {
    "scrolled": true
   },
   "outputs": [
    {
     "data": {
      "text/html": [
       "<div>\n",
       "<style scoped>\n",
       "    .dataframe tbody tr th:only-of-type {\n",
       "        vertical-align: middle;\n",
       "    }\n",
       "\n",
       "    .dataframe tbody tr th {\n",
       "        vertical-align: top;\n",
       "    }\n",
       "\n",
       "    .dataframe thead th {\n",
       "        text-align: right;\n",
       "    }\n",
       "</style>\n",
       "<table border=\"1\" class=\"dataframe\">\n",
       "  <thead>\n",
       "    <tr style=\"text-align: right;\">\n",
       "      <th></th>\n",
       "      <th>Water Purifier</th>\n",
       "      <th>Exhaust Fan</th>\n",
       "      <th>Washing Machine</th>\n",
       "      <th>Fridge</th>\n",
       "      <th>Curtains</th>\n",
       "      <th>Bed</th>\n",
       "      <th>Fan</th>\n",
       "      <th>Stove</th>\n",
       "      <th>Geyser</th>\n",
       "      <th>Chimney</th>\n",
       "      <th>Microwave</th>\n",
       "      <th>AC</th>\n",
       "      <th>TV</th>\n",
       "      <th>Dining Table</th>\n",
       "      <th>Wardrobe</th>\n",
       "      <th>Sofa</th>\n",
       "      <th>Light</th>\n",
       "      <th>Modular Kitchen</th>\n",
       "    </tr>\n",
       "  </thead>\n",
       "  <tbody>\n",
       "    <tr>\n",
       "      <th>2089</th>\n",
       "      <td>0</td>\n",
       "      <td>0</td>\n",
       "      <td>0</td>\n",
       "      <td>0</td>\n",
       "      <td>0</td>\n",
       "      <td>0</td>\n",
       "      <td>0</td>\n",
       "      <td>0</td>\n",
       "      <td>0</td>\n",
       "      <td>0</td>\n",
       "      <td>0</td>\n",
       "      <td>0</td>\n",
       "      <td>0</td>\n",
       "      <td>0</td>\n",
       "      <td>0</td>\n",
       "      <td>0</td>\n",
       "      <td>0</td>\n",
       "      <td>0</td>\n",
       "    </tr>\n",
       "    <tr>\n",
       "      <th>2179</th>\n",
       "      <td>1</td>\n",
       "      <td>1</td>\n",
       "      <td>1</td>\n",
       "      <td>1</td>\n",
       "      <td>9</td>\n",
       "      <td>0</td>\n",
       "      <td>4</td>\n",
       "      <td>1</td>\n",
       "      <td>2</td>\n",
       "      <td>1</td>\n",
       "      <td>1</td>\n",
       "      <td>2</td>\n",
       "      <td>1</td>\n",
       "      <td>1</td>\n",
       "      <td>2</td>\n",
       "      <td>1</td>\n",
       "      <td>14</td>\n",
       "      <td>1</td>\n",
       "    </tr>\n",
       "    <tr>\n",
       "      <th>289</th>\n",
       "      <td>0</td>\n",
       "      <td>0</td>\n",
       "      <td>0</td>\n",
       "      <td>0</td>\n",
       "      <td>0</td>\n",
       "      <td>0</td>\n",
       "      <td>0</td>\n",
       "      <td>0</td>\n",
       "      <td>0</td>\n",
       "      <td>0</td>\n",
       "      <td>0</td>\n",
       "      <td>0</td>\n",
       "      <td>0</td>\n",
       "      <td>0</td>\n",
       "      <td>0</td>\n",
       "      <td>0</td>\n",
       "      <td>0</td>\n",
       "      <td>0</td>\n",
       "    </tr>\n",
       "    <tr>\n",
       "      <th>322</th>\n",
       "      <td>0</td>\n",
       "      <td>0</td>\n",
       "      <td>0</td>\n",
       "      <td>0</td>\n",
       "      <td>0</td>\n",
       "      <td>0</td>\n",
       "      <td>7</td>\n",
       "      <td>0</td>\n",
       "      <td>5</td>\n",
       "      <td>1</td>\n",
       "      <td>0</td>\n",
       "      <td>6</td>\n",
       "      <td>0</td>\n",
       "      <td>0</td>\n",
       "      <td>4</td>\n",
       "      <td>0</td>\n",
       "      <td>10</td>\n",
       "      <td>0</td>\n",
       "    </tr>\n",
       "    <tr>\n",
       "      <th>2524</th>\n",
       "      <td>0</td>\n",
       "      <td>0</td>\n",
       "      <td>0</td>\n",
       "      <td>0</td>\n",
       "      <td>0</td>\n",
       "      <td>0</td>\n",
       "      <td>0</td>\n",
       "      <td>0</td>\n",
       "      <td>0</td>\n",
       "      <td>0</td>\n",
       "      <td>0</td>\n",
       "      <td>0</td>\n",
       "      <td>0</td>\n",
       "      <td>0</td>\n",
       "      <td>0</td>\n",
       "      <td>0</td>\n",
       "      <td>0</td>\n",
       "      <td>1</td>\n",
       "    </tr>\n",
       "  </tbody>\n",
       "</table>\n",
       "</div>"
      ],
      "text/plain": [
       "      Water Purifier  Exhaust Fan  Washing Machine  Fridge  Curtains  Bed  \\\n",
       "2089               0            0                0       0         0    0   \n",
       "2179               1            1                1       1         9    0   \n",
       "289                0            0                0       0         0    0   \n",
       "322                0            0                0       0         0    0   \n",
       "2524               0            0                0       0         0    0   \n",
       "\n",
       "      Fan  Stove  Geyser  Chimney  Microwave  AC  TV  Dining Table  Wardrobe  \\\n",
       "2089    0      0       0        0          0   0   0             0         0   \n",
       "2179    4      1       2        1          1   2   1             1         2   \n",
       "289     0      0       0        0          0   0   0             0         0   \n",
       "322     7      0       5        1          0   6   0             0         4   \n",
       "2524    0      0       0        0          0   0   0             0         0   \n",
       "\n",
       "      Sofa  Light  Modular Kitchen  \n",
       "2089     0      0                0  \n",
       "2179     1     14                1  \n",
       "289      0      0                0  \n",
       "322      0     10                0  \n",
       "2524     0      0                1  "
      ]
     },
     "execution_count": 41,
     "metadata": {},
     "output_type": "execute_result"
    }
   ],
   "source": [
    "# checking few rows from 'furnishings_df' \n",
    "furnishings_df.sample(5)"
   ]
  },
  {
   "cell_type": "code",
   "execution_count": 42,
   "id": "3a80ff12",
   "metadata": {},
   "outputs": [],
   "source": [
    "# scaling the 'furnishings_df'\n",
    "scaler = StandardScaler()\n",
    "scaled_data = scaler.fit_transform(furnishings_df)"
   ]
  },
  {
   "cell_type": "code",
   "execution_count": 43,
   "id": "ab8db551",
   "metadata": {},
   "outputs": [
    {
     "data": {
      "application/vnd.jupyter.widget-view+json": {
       "model_id": "15cf4708acaa4dc2964e8a66761c059f",
       "version_major": 2,
       "version_minor": 0
      },
      "text/plain": [
       "  0%|          | 0/10 [00:00<?, ?it/s]"
      ]
     },
     "metadata": {},
     "output_type": "display_data"
    }
   ],
   "source": [
    "# Initialize an empty list to store the Within-Cluster Sum of squares (WCSS) values for different cluster numbers\n",
    "wcss_reduced = []\n",
    "\n",
    "# Iterate through different cluster numbers from 1 to 10\n",
    "for i in tqdm(range(1, 11)):\n",
    "    \n",
    "    # Create a KMeans model with the current cluster number\n",
    "    kmeans = KMeans(n_clusters=i, init='k-means++', random_state=42) # k-means++ for better initialization\n",
    "    \n",
    "    # fit the model to the scaled data\n",
    "    kmeans.fit(scaled_data)\n",
    "    \n",
    "    # append the model's inertia (WCSS) to the list\n",
    "    wcss_reduced.append(kmeans.inertia_)"
   ]
  },
  {
   "cell_type": "code",
   "execution_count": 44,
   "id": "443ed945",
   "metadata": {},
   "outputs": [
    {
     "data": {
      "image/png": "[encoded data removed]",
      "text/plain": [
       "<Figure size 1200x800 with 1 Axes>"
      ]
     },
     "metadata": {},
     "output_type": "display_data"
    }
   ],
   "source": [
    "# plotting the results for better visualization\n",
    "plt.figure(figsize=(12, 8))\n",
    "plt.plot(range(1, 11), wcss_reduced, marker='o', linestyle='--')\n",
    "plt.title('Elbow Method for Optimal Number of Clusters (Reduced Range)')\n",
    "plt.xlabel('Number of clusters')\n",
    "plt.ylabel('WCSS')\n",
    "plt.grid(True)\n",
    "plt.show()"
   ]
  },
  {
   "cell_type": "code",
   "execution_count": 45,
   "id": "3066af13",
   "metadata": {},
   "outputs": [],
   "source": [
    "# from the above elbow we can see that the optimum number of clusters will be 3\n",
    "n_clusters = 3\n",
    "\n",
    "# fit the KMeans model\n",
    "kmeans = KMeans(n_clusters=n_clusters, random_state=42)\n",
    "kmeans.fit(scaled_data)\n",
    "\n",
    "# predict the cluster assignments for each row\n",
    "cluster_assignments = kmeans.predict(scaled_data)"
   ]
  },
  {
   "cell_type": "code",
   "execution_count": 50,
   "id": "e5043b30",
   "metadata": {
    "scrolled": true
   },
   "outputs": [
    {
     "name": "stdout",
     "output_type": "stream",
     "text": [
      "Water Purifier\n",
      "Exhaust Fan\n",
      "Washing Machine\n",
      "Fridge\n",
      "Curtains\n",
      "Bed\n",
      "Fan\n",
      "Stove\n",
      "Geyser\n",
      "Chimney\n",
      "Microwave\n",
      "AC\n",
      "TV\n",
      "Dining Table\n",
      "Wardrobe\n",
      "Sofa\n",
      "Light\n",
      "Modular Kitchen\n"
     ]
    }
   ],
   "source": [
    "# removing the extra 'furnishings' columns\n",
    "\n",
    "# checking the column locations\n",
    "for i in df.columns:\n",
    "    if i not in df.iloc[:, :-18].columns:\n",
    "        print(i)"
   ]
  },
  {
   "cell_type": "code",
   "execution_count": 52,
   "id": "c513c35b",
   "metadata": {},
   "outputs": [
    {
     "data": {
      "text/plain": [
       "(3793,)"
      ]
     },
     "execution_count": 52,
     "metadata": {},
     "output_type": "execute_result"
    }
   ],
   "source": [
    "# assign a dataframe for the selected columns \n",
    "df = df.iloc[:, :-18]"
   ]
  },
  {
   "cell_type": "code",
   "execution_count": 55,
   "id": "a20c0140",
   "metadata": {
    "scrolled": false
   },
   "outputs": [],
   "source": [
    "# assigning the clusters assigned to 'furnishing_type' column\n",
    "df['furnishing_type'] = cluster_assignments"
   ]
  },
  {
   "cell_type": "code",
   "execution_count": 100,
   "id": "b240578e",
   "metadata": {
    "scrolled": true
   },
   "outputs": [
    {
     "data": {
      "image/jpeg": "[encoded data removed]",
      "text/plain": [
       "<IPython.core.display.Image object>"
      ]
     },
     "metadata": {
      "image/jpeg": {
       "height": 800,
       "width": 500
      }
     },
     "output_type": "display_data"
    }
   ],
   "source": [
    "# path for the image\n",
    "docs_imgs = home_dir / 'docs/imgs'\n",
    "img_file = docs_imgs / 'furnishing_clusters.jpg'\n",
    "\n",
    "display(Image(filename=img_file, embed=True, width=500, height=800))"
   ]
  },
  {
   "cell_type": "code",
   "execution_count": 110,
   "id": "2e135980",
   "metadata": {
    "scrolled": true
   },
   "outputs": [
    {
     "data": {
      "text/html": [
       "<div>\n",
       "<style scoped>\n",
       "    .dataframe tbody tr th:only-of-type {\n",
       "        vertical-align: middle;\n",
       "    }\n",
       "\n",
       "    .dataframe tbody tr th {\n",
       "        vertical-align: top;\n",
       "    }\n",
       "\n",
       "    .dataframe thead th {\n",
       "        text-align: right;\n",
       "    }\n",
       "</style>\n",
       "<table border=\"1\" class=\"dataframe\">\n",
       "  <thead>\n",
       "    <tr style=\"text-align: right;\">\n",
       "      <th></th>\n",
       "      <th>furnishDetails</th>\n",
       "      <th>furnishing_type</th>\n",
       "    </tr>\n",
       "  </thead>\n",
       "  <tbody>\n",
       "    <tr>\n",
       "      <th>1659</th>\n",
       "      <td>['3 Wardrobe', '1 Fridge', '8 Fan', '1 Exhaust Fan', '3 Geyser', '1 Washing Machine', '32 Light', '1 Chimney', '1 Curtains', 'No AC', 'No Bed', 'No Dining Table', 'No Modular Kitchen', 'No Microwave', 'No Sofa', 'No Stove', 'No TV', 'No Water Purifier']</td>\n",
       "      <td>0</td>\n",
       "    </tr>\n",
       "    <tr>\n",
       "      <th>984</th>\n",
       "      <td>['2 AC', 'No Bed', 'No Chimney', 'No Curtains', 'No Dining Table', 'No Exhaust Fan', 'No Fan', 'No Geyser', 'No Modular Kitchen', 'No Light', 'No Microwave', 'No Fridge', 'No Sofa', 'No Stove', 'No TV', 'No Wardrobe', 'No Washing Machine', 'No Water Purifier']</td>\n",
       "      <td>1</td>\n",
       "    </tr>\n",
       "    <tr>\n",
       "      <th>2145</th>\n",
       "      <td>['1 Bed', '1 Water Purifier', '1 Fan', '1 Fridge', '1 Sofa', '1 Exhaust Fan', '1 Light', '1 Chimney', '1 Curtains', '1 AC', 'No Dining Table', 'No Geyser', 'No Modular Kitchen', 'No Microwave', 'No Stove', 'No TV', 'No Wardrobe', 'No Washing Machine']</td>\n",
       "      <td>2</td>\n",
       "    </tr>\n",
       "  </tbody>\n",
       "</table>\n",
       "</div>"
      ],
      "text/plain": [
       "                                                                                                                                                                                                                                                            furnishDetails  \\\n",
       "1659         ['3 Wardrobe', '1 Fridge', '8 Fan', '1 Exhaust Fan', '3 Geyser', '1 Washing Machine', '32 Light', '1 Chimney', '1 Curtains', 'No AC', 'No Bed', 'No Dining Table', 'No Modular Kitchen', 'No Microwave', 'No Sofa', 'No Stove', 'No TV', 'No Water Purifier']   \n",
       "984   ['2 AC', 'No Bed', 'No Chimney', 'No Curtains', 'No Dining Table', 'No Exhaust Fan', 'No Fan', 'No Geyser', 'No Modular Kitchen', 'No Light', 'No Microwave', 'No Fridge', 'No Sofa', 'No Stove', 'No TV', 'No Wardrobe', 'No Washing Machine', 'No Water Purifier']   \n",
       "2145           ['1 Bed', '1 Water Purifier', '1 Fan', '1 Fridge', '1 Sofa', '1 Exhaust Fan', '1 Light', '1 Chimney', '1 Curtains', '1 AC', 'No Dining Table', 'No Geyser', 'No Modular Kitchen', 'No Microwave', 'No Stove', 'No TV', 'No Wardrobe', 'No Washing Machine']   \n",
       "\n",
       "      furnishing_type  \n",
       "1659                0  \n",
       "984                 1  \n",
       "2145                2  "
      ]
     },
     "execution_count": 110,
     "metadata": {},
     "output_type": "execute_result"
    }
   ],
   "source": [
    "# setting the seed value\n",
    "np.random.seed(42)\n",
    "\n",
    "# checking each row from each condition\n",
    "pd.concat([\n",
    "    df[df['furnishing_type']==0][['furnishDetails', 'furnishing_type']].sample(1),\n",
    "    df[df['furnishing_type']==1][['furnishDetails', 'furnishing_type']].sample(1),\n",
    "    df[df['furnishing_type']==2][['furnishDetails', 'furnishing_type']].sample(1),\n",
    "    ])"
   ]
  },
  {
   "cell_type": "markdown",
   "id": "097fa79e",
   "metadata": {},
   "source": [
    "### 5.features"
   ]
  },
  {
   "cell_type": "code",
   "execution_count": 112,
   "id": "dda74910",
   "metadata": {},
   "outputs": [
    {
     "data": {
      "text/html": [
       "<div>\n",
       "<style scoped>\n",
       "    .dataframe tbody tr th:only-of-type {\n",
       "        vertical-align: middle;\n",
       "    }\n",
       "\n",
       "    .dataframe tbody tr th {\n",
       "        vertical-align: top;\n",
       "    }\n",
       "\n",
       "    .dataframe thead th {\n",
       "        text-align: right;\n",
       "    }\n",
       "</style>\n",
       "<table border=\"1\" class=\"dataframe\">\n",
       "  <thead>\n",
       "    <tr style=\"text-align: right;\">\n",
       "      <th></th>\n",
       "      <th>features</th>\n",
       "    </tr>\n",
       "  </thead>\n",
       "  <tbody>\n",
       "    <tr>\n",
       "      <th>3386</th>\n",
       "      <td>['Water Storage']</td>\n",
       "    </tr>\n",
       "    <tr>\n",
       "      <th>3584</th>\n",
       "      <td>['Feng Shui / Vaastu Compliant', 'Private Garden / Terrace', 'Maintenance Staff', 'Water Storage', 'Park', 'Visitor Parking', 'Waste Disposal', 'Rain Water Harvesting']</td>\n",
       "    </tr>\n",
       "    <tr>\n",
       "      <th>3631</th>\n",
       "      <td>['Feng Shui / Vaastu Compliant', 'Private Garden / Terrace', 'Maintenance Staff', 'Park', 'Piped-gas', 'Visitor Parking', 'Security Personnel', 'Airy Rooms', 'Spacious Interiors']</td>\n",
       "    </tr>\n",
       "    <tr>\n",
       "      <th>132</th>\n",
       "      <td>NaN</td>\n",
       "    </tr>\n",
       "    <tr>\n",
       "      <th>1663</th>\n",
       "      <td>['Security / Fire Alarm', 'Feng Shui / Vaastu Compliant', 'Intercom Facility', 'Lift(s)', 'Centrally Air Conditioned', 'High Ceiling Height', 'Maintenance Staff', 'Water Storage', 'No open drainage around', 'Visitor Parking', 'Swimming Pool', 'Park', 'Security Personnel', 'Natural Light', 'Airy Rooms', 'Spacious Interiors', 'Low Density Society', 'Shopping Centre', 'Fitness Centre / GYM', 'Club house / Community Center']</td>\n",
       "    </tr>\n",
       "  </tbody>\n",
       "</table>\n",
       "</div>"
      ],
      "text/plain": [
       "                                                                                                                                                                                                                                                                                                                                                                                                                                      features\n",
       "3386                                                                                                                                                                                                                                                                                                                                                                                                                         ['Water Storage']\n",
       "3584                                                                                                                                                                                                                                                                  ['Feng Shui / Vaastu Compliant', 'Private Garden / Terrace', 'Maintenance Staff', 'Water Storage', 'Park', 'Visitor Parking', 'Waste Disposal', 'Rain Water Harvesting']\n",
       "3631                                                                                                                                                                                                                                                       ['Feng Shui / Vaastu Compliant', 'Private Garden / Terrace', 'Maintenance Staff', 'Park', 'Piped-gas', 'Visitor Parking', 'Security Personnel', 'Airy Rooms', 'Spacious Interiors']\n",
       "132                                                                                                                                                                                                                                                                                                                                                                                                                                        NaN\n",
       "1663  ['Security / Fire Alarm', 'Feng Shui / Vaastu Compliant', 'Intercom Facility', 'Lift(s)', 'Centrally Air Conditioned', 'High Ceiling Height', 'Maintenance Staff', 'Water Storage', 'No open drainage around', 'Visitor Parking', 'Swimming Pool', 'Park', 'Security Personnel', 'Natural Light', 'Airy Rooms', 'Spacious Interiors', 'Low Density Society', 'Shopping Centre', 'Fitness Centre / GYM', 'Club house / Community Center']"
      ]
     },
     "execution_count": 112,
     "metadata": {},
     "output_type": "execute_result"
    }
   ],
   "source": [
    "# checking few rows\n",
    "df[['features']].sample(5)"
   ]
  },
  {
   "cell_type": "code",
   "execution_count": 113,
   "id": "98e16afc",
   "metadata": {},
   "outputs": [
    {
     "name": "stdout",
     "output_type": "stream",
     "text": [
      "Missing values in 'features' column: 631\n"
     ]
    }
   ],
   "source": [
    "# checking null values\n",
    "print(f\"Missing values in 'features' column: {df['features'].isnull().sum()}\")"
   ]
  },
  {
   "cell_type": "code",
   "execution_count": null,
   "id": "ee3cb332",
   "metadata": {},
   "outputs": [],
   "source": [
    "# as we can see in above cell, 'features' has many missing values\n",
    "# we can fill these values from another dataset, 'appratment' dataset"
   ]
  },
  {
   "cell_type": "code",
   "execution_count": 122,
   "id": "9b954b21",
   "metadata": {},
   "outputs": [
    {
     "data": {
      "text/html": [
       "<div>\n",
       "<style scoped>\n",
       "    .dataframe tbody tr th:only-of-type {\n",
       "        vertical-align: middle;\n",
       "    }\n",
       "\n",
       "    .dataframe tbody tr th {\n",
       "        vertical-align: top;\n",
       "    }\n",
       "\n",
       "    .dataframe thead th {\n",
       "        text-align: right;\n",
       "    }\n",
       "</style>\n",
       "<table border=\"1\" class=\"dataframe\">\n",
       "  <thead>\n",
       "    <tr style=\"text-align: right;\">\n",
       "      <th></th>\n",
       "      <th>PropertyName</th>\n",
       "      <th>PropertySubName</th>\n",
       "      <th>NearbyLocations</th>\n",
       "      <th>LocationAdvantages</th>\n",
       "      <th>Link</th>\n",
       "      <th>PriceDetails</th>\n",
       "      <th>TopFacilities</th>\n",
       "    </tr>\n",
       "  </thead>\n",
       "  <tbody>\n",
       "    <tr>\n",
       "      <th>0</th>\n",
       "      <td>Smartworld One DXP</td>\n",
       "      <td>2, 3, 4 BHK Apartment in Sector 113, Gurgaon</td>\n",
       "      <td>['Bajghera Road', 'Palam Vihar Halt', 'DPSG Palam Vihar', 'Park Hospital', 'Gurgaon Railway Station']</td>\n",
       "      <td>{'Bajghera Road': '800 Meter', 'Palam Vihar Halt': '2.5 KM', 'DPSG Palam Vihar': '3.1 KM', 'Park Hospital': '3.1 KM', 'Gurgaon Railway Station': '4.9 KM', 'The NorthCap University': '5.4 KM', 'Dwarka Expy': '1.2 KM', 'Hyatt Place Gurgaon Udyog Vihar': '7.7 KM', 'Dwarka Sector 21, Metro Station': '7.2 KM', 'Pacific D21 Mall': '7.4 KM', 'Indira Gandhi International Airport': '14.7 KM', 'Hamoni Golf Camp': '6.2 KM', 'Fun N Food Waterpark': '8.8 KM', 'Accenture DDC5': '9 KM'}</td>\n",
       "      <td>https://www.99acres.com/smartworld-one-dxp-sector-113-gurgaon-npxid-r400415</td>\n",
       "      <td>{'2 BHK': {'building_type': 'Apartment', 'area_type': 'Carpet Area', 'area': '1,370 sq.ft.', 'price-range': '₹ 2 - 2.4 Cr'}, '3 BHK': {'building_type': 'Apartment', 'area_type': 'Carpet Area', 'area': '1,850 - 2,050 sq.ft.', 'price-range': '₹ 2.25 - 3.59 Cr'}, '4 BHK': {'building_type': 'Apartment', 'area_type': 'Carpet Area', 'area': '2,600 sq.ft.', 'price-range': '₹ 3.24 - 4.56 Cr'}}</td>\n",
       "      <td>['Swimming Pool', 'Salon', 'Restaurant', 'Spa', 'Cafeteria', 'Sun Deck', '24x7 Security', 'Club House', 'Gated Community']</td>\n",
       "    </tr>\n",
       "    <tr>\n",
       "      <th>1</th>\n",
       "      <td>M3M Crown</td>\n",
       "      <td>3, 4 BHK Apartment in Sector 111, Gurgaon</td>\n",
       "      <td>['DPSG Palam Vihar Gurugram', 'The NorthCap University', 'Park Hospital, Palam Vihar', 'Pacific D21 Mall', 'Palam Vihar Halt Railway Station']</td>\n",
       "      <td>{'DPSG Palam Vihar Gurugram': '1.4 Km', 'The NorthCap University': '4.4 Km', 'Park Hospital, Palam Vihar': '1.4 Km', 'Pacific D21 Mall': '8.2 Km', 'Palam Vihar Halt Railway Station': '1.2 Km', 'Dwarka Sector 21 Metro Station': '8.1 Km', 'Dwarka Expressway': '450 m', 'Fun N Food Water Park': '8.1 Km', 'Indira Gandhi International Airport': '14.1 Km', 'Tau DeviLal Sports Complex': '11.2 Km', 'Hamoni Golf Camp': '5 Km', 'Hyatt Place': '6.1 Km', 'Altrade Business Centre': '11.2 Km'}</td>\n",
       "      <td>https://www.99acres.com/m3m-crown-sector-111-gurgaon-npxid-r404068</td>\n",
       "      <td>{'3 BHK': {'building_type': 'Apartment', 'area_type': 'Super Built-up Area', 'area': '1,605 - 2,170 sq.ft.', 'price-range': '₹ 2.2 - 3.03 Cr'}, '4 BHK': {'building_type': 'Apartment', 'area_type': 'Super Built-up Area', 'area': '2,248 - 2,670 sq.ft.', 'price-range': '₹ 3.08 - 3.73 Cr'}}</td>\n",
       "      <td>['Bowling Alley', 'Mini Theatre', 'Manicured Garden', 'Swimming Pool', 'Flower Garden', 'Reading Lounge', 'Golf Course', 'Barbecue', 'Sauna']</td>\n",
       "    </tr>\n",
       "  </tbody>\n",
       "</table>\n",
       "</div>"
      ],
      "text/plain": [
       "         PropertyName                               PropertySubName  \\\n",
       "0  Smartworld One DXP  2, 3, 4 BHK Apartment in Sector 113, Gurgaon   \n",
       "1           M3M Crown     3, 4 BHK Apartment in Sector 111, Gurgaon   \n",
       "\n",
       "                                                                                                                                  NearbyLocations  \\\n",
       "0                                           ['Bajghera Road', 'Palam Vihar Halt', 'DPSG Palam Vihar', 'Park Hospital', 'Gurgaon Railway Station']   \n",
       "1  ['DPSG Palam Vihar Gurugram', 'The NorthCap University', 'Park Hospital, Palam Vihar', 'Pacific D21 Mall', 'Palam Vihar Halt Railway Station']   \n",
       "\n",
       "                                                                                                                                                                                                                                                                                                                                                                                                                                                                                    LocationAdvantages  \\\n",
       "0         {'Bajghera Road': '800 Meter', 'Palam Vihar Halt': '2.5 KM', 'DPSG Palam Vihar': '3.1 KM', 'Park Hospital': '3.1 KM', 'Gurgaon Railway Station': '4.9 KM', 'The NorthCap University': '5.4 KM', 'Dwarka Expy': '1.2 KM', 'Hyatt Place Gurgaon Udyog Vihar': '7.7 KM', 'Dwarka Sector 21, Metro Station': '7.2 KM', 'Pacific D21 Mall': '7.4 KM', 'Indira Gandhi International Airport': '14.7 KM', 'Hamoni Golf Camp': '6.2 KM', 'Fun N Food Waterpark': '8.8 KM', 'Accenture DDC5': '9 KM'}   \n",
       "1  {'DPSG Palam Vihar Gurugram': '1.4 Km', 'The NorthCap University': '4.4 Km', 'Park Hospital, Palam Vihar': '1.4 Km', 'Pacific D21 Mall': '8.2 Km', 'Palam Vihar Halt Railway Station': '1.2 Km', 'Dwarka Sector 21 Metro Station': '8.1 Km', 'Dwarka Expressway': '450 m', 'Fun N Food Water Park': '8.1 Km', 'Indira Gandhi International Airport': '14.1 Km', 'Tau DeviLal Sports Complex': '11.2 Km', 'Hamoni Golf Camp': '5 Km', 'Hyatt Place': '6.1 Km', 'Altrade Business Centre': '11.2 Km'}   \n",
       "\n",
       "                                                                          Link  \\\n",
       "0  https://www.99acres.com/smartworld-one-dxp-sector-113-gurgaon-npxid-r400415   \n",
       "1           https://www.99acres.com/m3m-crown-sector-111-gurgaon-npxid-r404068   \n",
       "\n",
       "                                                                                                                                                                                                                                                                                                                                                                                           PriceDetails  \\\n",
       "0  {'2 BHK': {'building_type': 'Apartment', 'area_type': 'Carpet Area', 'area': '1,370 sq.ft.', 'price-range': '₹ 2 - 2.4 Cr'}, '3 BHK': {'building_type': 'Apartment', 'area_type': 'Carpet Area', 'area': '1,850 - 2,050 sq.ft.', 'price-range': '₹ 2.25 - 3.59 Cr'}, '4 BHK': {'building_type': 'Apartment', 'area_type': 'Carpet Area', 'area': '2,600 sq.ft.', 'price-range': '₹ 3.24 - 4.56 Cr'}}   \n",
       "1                                                                                                       {'3 BHK': {'building_type': 'Apartment', 'area_type': 'Super Built-up Area', 'area': '1,605 - 2,170 sq.ft.', 'price-range': '₹ 2.2 - 3.03 Cr'}, '4 BHK': {'building_type': 'Apartment', 'area_type': 'Super Built-up Area', 'area': '2,248 - 2,670 sq.ft.', 'price-range': '₹ 3.08 - 3.73 Cr'}}   \n",
       "\n",
       "                                                                                                                                   TopFacilities  \n",
       "0                     ['Swimming Pool', 'Salon', 'Restaurant', 'Spa', 'Cafeteria', 'Sun Deck', '24x7 Security', 'Club House', 'Gated Community']  \n",
       "1  ['Bowling Alley', 'Mini Theatre', 'Manicured Garden', 'Swimming Pool', 'Flower Garden', 'Reading Lounge', 'Golf Course', 'Barbecue', 'Sauna']  "
      ]
     },
     "execution_count": 122,
     "metadata": {},
     "output_type": "execute_result"
    }
   ],
   "source": [
    "raw_dir = data_dir / 'raw' # raw directory path\n",
    "appartments_file = raw_dir / \"appartments.csv\" # appartments.csv file path\n",
    "\n",
    "# reading the dataset with pandas\n",
    "app_df = pd.read_csv(appartments_file)\n",
    "\n",
    "# checking first two rows of the dataset\n",
    "app_df.head(2)"
   ]
  },
  {
   "cell_type": "code",
   "execution_count": 124,
   "id": "19d1de5f",
   "metadata": {},
   "outputs": [
    {
     "name": "stdout",
     "output_type": "stream",
     "text": [
      "appartment dataset shape: (247, 7)\n"
     ]
    }
   ],
   "source": [
    "# shape of the appartment dataset\n",
    "print(f\"appartment dataset shape: {app_df.shape}\")"
   ]
  },
  {
   "cell_type": "code",
   "execution_count": 126,
   "id": "5c715ab6",
   "metadata": {
    "scrolled": true
   },
   "outputs": [
    {
     "data": {
      "text/plain": [
       "Index(['PropertyName', 'PropertySubName', 'NearbyLocations',\n",
       "       'LocationAdvantages', 'Link', 'PriceDetails', 'TopFacilities'],\n",
       "      dtype='object')"
      ]
     },
     "execution_count": 126,
     "metadata": {},
     "output_type": "execute_result"
    }
   ],
   "source": [
    "# columns in the dataset\n",
    "app_df.columns"
   ]
  },
  {
   "cell_type": "code",
   "execution_count": 128,
   "id": "9d598d27",
   "metadata": {},
   "outputs": [],
   "source": [
    "# lowering the text in 'PropertyName' column\n",
    "app_df['PropertyName'] = app_df['PropertyName'].str.lower()"
   ]
  },
  {
   "cell_type": "code",
   "execution_count": 131,
   "id": "8de2bbd4",
   "metadata": {},
   "outputs": [],
   "source": [
    "# creating a temporary df, which will hold the rows with missing values in 'feature' column\n",
    "temp_df = df[df['features'].isnull()]"
   ]
  },
  {
   "cell_type": "code",
   "execution_count": 132,
   "id": "98a94113",
   "metadata": {},
   "outputs": [
    {
     "data": {
      "text/plain": [
       "(631, 45)"
      ]
     },
     "execution_count": 132,
     "metadata": {},
     "output_type": "execute_result"
    }
   ],
   "source": [
    "# shape of the temporary dataframe\n",
    "temp_df.shape"
   ]
  },
  {
   "cell_type": "code",
   "execution_count": null,
   "id": "16938c7b",
   "metadata": {},
   "outputs": [],
   "source": []
  }
 ],
 "metadata": {
  "kernelspec": {
   "display_name": "Python 3 (ipykernel)",
   "language": "python",
   "name": "python3"
  },
  "language_info": {
   "codemirror_mode": {
    "name": "ipython",
    "version": 3
   },
   "file_extension": ".py",
   "mimetype": "text/x-python",
   "name": "python",
   "nbconvert_exporter": "python",
   "pygments_lexer": "ipython3",
   "version": "3.11.5"
  }
 },
 "nbformat": 4,
 "nbformat_minor": 5
}
