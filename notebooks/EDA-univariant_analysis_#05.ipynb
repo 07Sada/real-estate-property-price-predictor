{
 "cells": [
  {
   "cell_type": "code",
   "execution_count": 1,
   "id": "e9c0c9b2",
   "metadata": {},
   "outputs": [],
   "source": [
    "# importing the libraries\n",
    "import pandas as pd\n",
    "import numpy as np\n",
    "import matplotlib.pyplot as plt\n",
    "from pathlib import Path as path\n",
    "import seaborn as sns \n",
    "\n",
    "import warnings\n",
    "warnings.filterwarnings('ignore')"
   ]
  },
  {
   "cell_type": "code",
   "execution_count": 2,
   "id": "6e522d61",
   "metadata": {},
   "outputs": [],
   "source": [
    "# paths for the directories\n",
    "home_dir = path.cwd().parent                                  # home directory\n",
    "data_dir = home_dir / 'data'                                  # data directory\n",
    "iterim_data_dir = data_dir / 'interim'                        # interim data directory path\n",
    "dataset_path = iterim_data_dir / \"flat-house-dataset_v2.csv\"  # dataset path"
   ]
  },
  {
   "cell_type": "code",
   "execution_count": 3,
   "id": "27d34a2a",
   "metadata": {},
   "outputs": [
    {
     "data": {
      "text/html": [
       "<div>\n",
       "<style scoped>\n",
       "    .dataframe tbody tr th:only-of-type {\n",
       "        vertical-align: middle;\n",
       "    }\n",
       "\n",
       "    .dataframe tbody tr th {\n",
       "        vertical-align: top;\n",
       "    }\n",
       "\n",
       "    .dataframe thead th {\n",
       "        text-align: right;\n",
       "    }\n",
       "</style>\n",
       "<table border=\"1\" class=\"dataframe\">\n",
       "  <thead>\n",
       "    <tr style=\"text-align: right;\">\n",
       "      <th></th>\n",
       "      <th>property_type</th>\n",
       "      <th>society</th>\n",
       "      <th>sector</th>\n",
       "      <th>price</th>\n",
       "      <th>price_per_sqft</th>\n",
       "      <th>area</th>\n",
       "      <th>areaWithType</th>\n",
       "      <th>bedRoom</th>\n",
       "      <th>bathroom</th>\n",
       "      <th>balcony</th>\n",
       "      <th>...</th>\n",
       "      <th>super_built_up_area</th>\n",
       "      <th>built_up_area</th>\n",
       "      <th>carpet_area</th>\n",
       "      <th>servant room</th>\n",
       "      <th>others</th>\n",
       "      <th>pooja room</th>\n",
       "      <th>study room</th>\n",
       "      <th>store room</th>\n",
       "      <th>furnishing_type</th>\n",
       "      <th>luxury_score</th>\n",
       "    </tr>\n",
       "  </thead>\n",
       "  <tbody>\n",
       "    <tr>\n",
       "      <th>0</th>\n",
       "      <td>flat</td>\n",
       "      <td>umang monsoon breeze</td>\n",
       "      <td>sector 78</td>\n",
       "      <td>0.95</td>\n",
       "      <td>5491.0</td>\n",
       "      <td>1730.0</td>\n",
       "      <td>Built Up area: 1730 (160.72 sq.m.)</td>\n",
       "      <td>3.0</td>\n",
       "      <td>3</td>\n",
       "      <td>2</td>\n",
       "      <td>...</td>\n",
       "      <td>NaN</td>\n",
       "      <td>1730.00</td>\n",
       "      <td>NaN</td>\n",
       "      <td>0</td>\n",
       "      <td>0</td>\n",
       "      <td>0</td>\n",
       "      <td>0</td>\n",
       "      <td>0</td>\n",
       "      <td>0</td>\n",
       "      <td>65</td>\n",
       "    </tr>\n",
       "    <tr>\n",
       "      <th>1</th>\n",
       "      <td>flat</td>\n",
       "      <td>experion the heartsong</td>\n",
       "      <td>sector 108</td>\n",
       "      <td>1.68</td>\n",
       "      <td>8387.0</td>\n",
       "      <td>2003.0</td>\n",
       "      <td>Super Built up area 2003(186.08 sq.m.)Built Up...</td>\n",
       "      <td>3.0</td>\n",
       "      <td>3</td>\n",
       "      <td>3+</td>\n",
       "      <td>...</td>\n",
       "      <td>2003.0</td>\n",
       "      <td>1338.29</td>\n",
       "      <td>986.41</td>\n",
       "      <td>1</td>\n",
       "      <td>0</td>\n",
       "      <td>0</td>\n",
       "      <td>1</td>\n",
       "      <td>0</td>\n",
       "      <td>0</td>\n",
       "      <td>86</td>\n",
       "    </tr>\n",
       "    <tr>\n",
       "      <th>2</th>\n",
       "      <td>flat</td>\n",
       "      <td>umang winter hills</td>\n",
       "      <td>sector 77</td>\n",
       "      <td>0.75</td>\n",
       "      <td>5588.0</td>\n",
       "      <td>1342.0</td>\n",
       "      <td>Super Built up area 1342(124.68 sq.m.)Built Up...</td>\n",
       "      <td>2.0</td>\n",
       "      <td>2</td>\n",
       "      <td>2</td>\n",
       "      <td>...</td>\n",
       "      <td>1342.0</td>\n",
       "      <td>1140.00</td>\n",
       "      <td>969.00</td>\n",
       "      <td>0</td>\n",
       "      <td>0</td>\n",
       "      <td>0</td>\n",
       "      <td>0</td>\n",
       "      <td>1</td>\n",
       "      <td>0</td>\n",
       "      <td>102</td>\n",
       "    </tr>\n",
       "    <tr>\n",
       "      <th>3</th>\n",
       "      <td>flat</td>\n",
       "      <td>shree vardhman flora</td>\n",
       "      <td>sector 90</td>\n",
       "      <td>0.92</td>\n",
       "      <td>4717.0</td>\n",
       "      <td>1950.0</td>\n",
       "      <td>Carpet area: 1950 (181.16 sq.m.)</td>\n",
       "      <td>3.0</td>\n",
       "      <td>3</td>\n",
       "      <td>2</td>\n",
       "      <td>...</td>\n",
       "      <td>NaN</td>\n",
       "      <td>NaN</td>\n",
       "      <td>1950.00</td>\n",
       "      <td>0</td>\n",
       "      <td>0</td>\n",
       "      <td>0</td>\n",
       "      <td>1</td>\n",
       "      <td>0</td>\n",
       "      <td>0</td>\n",
       "      <td>49</td>\n",
       "    </tr>\n",
       "    <tr>\n",
       "      <th>4</th>\n",
       "      <td>flat</td>\n",
       "      <td>dlf park place</td>\n",
       "      <td>sector 54</td>\n",
       "      <td>4.85</td>\n",
       "      <td>30180.0</td>\n",
       "      <td>1607.0</td>\n",
       "      <td>Super Built up area 1983(184.23 sq.m.)Built Up...</td>\n",
       "      <td>3.0</td>\n",
       "      <td>4</td>\n",
       "      <td>3+</td>\n",
       "      <td>...</td>\n",
       "      <td>1983.0</td>\n",
       "      <td>1785.00</td>\n",
       "      <td>1607.00</td>\n",
       "      <td>1</td>\n",
       "      <td>0</td>\n",
       "      <td>0</td>\n",
       "      <td>0</td>\n",
       "      <td>0</td>\n",
       "      <td>1</td>\n",
       "      <td>158</td>\n",
       "    </tr>\n",
       "  </tbody>\n",
       "</table>\n",
       "<p>5 rows × 23 columns</p>\n",
       "</div>"
      ],
      "text/plain": [
       "  property_type                 society      sector  price  price_per_sqft  \\\n",
       "0          flat    umang monsoon breeze   sector 78   0.95          5491.0   \n",
       "1          flat  experion the heartsong  sector 108   1.68          8387.0   \n",
       "2          flat      umang winter hills   sector 77   0.75          5588.0   \n",
       "3          flat    shree vardhman flora   sector 90   0.92          4717.0   \n",
       "4          flat          dlf park place   sector 54   4.85         30180.0   \n",
       "\n",
       "     area                                       areaWithType  bedRoom  \\\n",
       "0  1730.0                 Built Up area: 1730 (160.72 sq.m.)      3.0   \n",
       "1  2003.0  Super Built up area 2003(186.08 sq.m.)Built Up...      3.0   \n",
       "2  1342.0  Super Built up area 1342(124.68 sq.m.)Built Up...      2.0   \n",
       "3  1950.0                   Carpet area: 1950 (181.16 sq.m.)      3.0   \n",
       "4  1607.0  Super Built up area 1983(184.23 sq.m.)Built Up...      3.0   \n",
       "\n",
       "   bathroom balcony  ...  super_built_up_area built_up_area carpet_area  \\\n",
       "0         3       2  ...                  NaN       1730.00         NaN   \n",
       "1         3      3+  ...               2003.0       1338.29      986.41   \n",
       "2         2       2  ...               1342.0       1140.00      969.00   \n",
       "3         3       2  ...                  NaN           NaN     1950.00   \n",
       "4         4      3+  ...               1983.0       1785.00     1607.00   \n",
       "\n",
       "   servant room  others  pooja room  study room  store room  furnishing_type  \\\n",
       "0             0       0           0           0           0                0   \n",
       "1             1       0           0           1           0                0   \n",
       "2             0       0           0           0           1                0   \n",
       "3             0       0           0           1           0                0   \n",
       "4             1       0           0           0           0                1   \n",
       "\n",
       "   luxury_score  \n",
       "0            65  \n",
       "1            86  \n",
       "2           102  \n",
       "3            49  \n",
       "4           158  \n",
       "\n",
       "[5 rows x 23 columns]"
      ]
     },
     "execution_count": 3,
     "metadata": {},
     "output_type": "execute_result"
    }
   ],
   "source": [
    "# loading the dataset into pandas dataframe\n",
    "df = pd.read_csv(dataset_path)\n",
    "\n",
    "# checking few rows from the dataset\n",
    "df.head()"
   ]
  },
  {
   "cell_type": "code",
   "execution_count": 4,
   "id": "eb83c86d",
   "metadata": {},
   "outputs": [
    {
     "name": "stdout",
     "output_type": "stream",
     "text": [
      "Shape of the dataset: (3793, 23)\n"
     ]
    }
   ],
   "source": [
    "# checking the shape of the dataset\n",
    "print(f\"Shape of the dataset: {df.shape}\")"
   ]
  },
  {
   "cell_type": "code",
   "execution_count": 5,
   "id": "97c8af5b",
   "metadata": {},
   "outputs": [
    {
     "name": "stdout",
     "output_type": "stream",
     "text": [
      "<class 'pandas.core.frame.DataFrame'>\n",
      "RangeIndex: 3793 entries, 0 to 3792\n",
      "Data columns (total 23 columns):\n",
      " #   Column               Non-Null Count  Dtype  \n",
      "---  ------               --------------  -----  \n",
      " 0   property_type        3793 non-null   object \n",
      " 1   society              3793 non-null   object \n",
      " 2   sector               3793 non-null   object \n",
      " 3   price                3775 non-null   float64\n",
      " 4   price_per_sqft       3775 non-null   float64\n",
      " 5   area                 3775 non-null   float64\n",
      " 6   areaWithType         3793 non-null   object \n",
      " 7   bedRoom              3793 non-null   float64\n",
      " 8   bathroom             3793 non-null   int64  \n",
      " 9   balcony              3793 non-null   object \n",
      " 10  floorNum             3776 non-null   float64\n",
      " 11  facing               2695 non-null   object \n",
      " 12  agePossession        3793 non-null   object \n",
      " 13  super_built_up_area  1913 non-null   float64\n",
      " 14  built_up_area        1731 non-null   float64\n",
      " 15  carpet_area          1938 non-null   float64\n",
      " 16  servant room         3793 non-null   int64  \n",
      " 17  others               3793 non-null   int64  \n",
      " 18  pooja room           3793 non-null   int64  \n",
      " 19  study room           3793 non-null   int64  \n",
      " 20  store room           3793 non-null   int64  \n",
      " 21  furnishing_type      3793 non-null   int64  \n",
      " 22  luxury_score         3793 non-null   int64  \n",
      "dtypes: float64(8), int64(8), object(7)\n",
      "memory usage: 681.7+ KB\n"
     ]
    }
   ],
   "source": [
    "# taking a brief overview over the dataset\n",
    "df.info()"
   ]
  },
  {
   "cell_type": "code",
   "execution_count": 6,
   "id": "47dbecc6",
   "metadata": {},
   "outputs": [
    {
     "name": "stdout",
     "output_type": "stream",
     "text": [
      "Count of the duplicated rows in the dataset: 125\n"
     ]
    }
   ],
   "source": [
    "# checking for the duplicated rows in the dataset\n",
    "print(f\"Count of the duplicated rows in the dataset: {df.duplicated().sum()}\")"
   ]
  },
  {
   "cell_type": "code",
   "execution_count": 7,
   "id": "e33c823a",
   "metadata": {},
   "outputs": [],
   "source": [
    "# removing the duplicated rows from the dataset\n",
    "df.drop_duplicates(inplace=True)"
   ]
  },
  {
   "cell_type": "markdown",
   "id": "8f73cba0",
   "metadata": {},
   "source": [
    "### Feature Name: property_type"
   ]
  },
  {
   "cell_type": "code",
   "execution_count": 8,
   "id": "633651da",
   "metadata": {},
   "outputs": [
    {
     "name": "stdout",
     "output_type": "stream",
     "text": [
      "flats are 76.58% of the total dataset\n",
      "houses are 23.42% of the total dataset\n"
     ]
    },
    {
     "data": {
      "image/png": "[encoded data removed]",
      "text/plain": [
       "<Figure size 640x480 with 1 Axes>"
      ]
     },
     "metadata": {},
     "output_type": "display_data"
    }
   ],
   "source": [
    "# calculate the value count for property_type\n",
    "property_type_count = df['property_type'].value_counts()\n",
    "print(f\"flats are {round(property_type_count['flat']/property_type_count.sum() *100, 2)}% of the total dataset\")\n",
    "print(f\"houses are {round(property_type_count['house']/property_type_count.sum() *100, 2)}% of the total dataset\")\n",
    "\n",
    "# plotting the graph\n",
    "df['property_type'].value_counts().plot(kind='bar', rot=0);"
   ]
  },
  {
   "cell_type": "code",
   "execution_count": 9,
   "id": "2607ab8c",
   "metadata": {},
   "outputs": [
    {
     "data": {
      "text/plain": [
       "0"
      ]
     },
     "execution_count": 9,
     "metadata": {},
     "output_type": "execute_result"
    }
   ],
   "source": [
    "# checking for the null values in 'property_type' column\n",
    "df.property_type.isnull().sum()"
   ]
  },
  {
   "cell_type": "markdown",
   "id": "290ea507",
   "metadata": {},
   "source": [
    "### Observations\n",
    "- flats are in majority approx 76 percent and there are less numbers of houses approx 23 percent\n",
    "- No missing values"
   ]
  },
  {
   "cell_type": "markdown",
   "id": "b6ced419",
   "metadata": {},
   "source": [
    "### Feature Name: society"
   ]
  },
  {
   "cell_type": "code",
   "execution_count": 10,
   "id": "ef021ff5",
   "metadata": {},
   "outputs": [
    {
     "name": "stdout",
     "output_type": "stream",
     "text": [
      "Total unique society in the dataset: 671\n"
     ]
    }
   ],
   "source": [
    "# count of unique societies\n",
    "print(f\"Total unique society in the dataset: {df['society'].value_counts().count()}\")"
   ]
  },
  {
   "cell_type": "code",
   "execution_count": 11,
   "id": "f49d918f",
   "metadata": {},
   "outputs": [
    {
     "data": {
      "text/plain": [
       "society\n",
       "independent                             486\n",
       "tulip violet                             75\n",
       "ss the leaf                              73\n",
       "shapoorji pallonji joyville gurugram     42\n",
       "dlf new town heights                     42\n",
       "                                       ... \n",
       "hector trimurti heights                   1\n",
       "awho sispal vihar                         1\n",
       "aipl joy square                           1\n",
       "kamal residence                           1\n",
       "eros wembley estate                       1\n",
       "Name: count, Length: 671, dtype: int64"
      ]
     },
     "execution_count": 11,
     "metadata": {},
     "output_type": "execute_result"
    }
   ],
   "source": [
    "# taking a look at the society names\n",
    "df['society'].value_counts()"
   ]
  },
  {
   "cell_type": "code",
   "execution_count": 12,
   "id": "f16bda80",
   "metadata": {},
   "outputs": [
    {
     "data": {
      "text/plain": [
       "society\n",
       "tulip violet                            0.023570\n",
       "ss the leaf                             0.046512\n",
       "dlf new town heights                    0.059711\n",
       "shapoorji pallonji joyville gurugram    0.072910\n",
       "signature global park                   0.083909\n",
       "                                          ...   \n",
       "indiabulls enigma                       0.491829\n",
       "dlf the primus                          0.495915\n",
       "umang monsoon breeze                    0.500000\n",
       "mvn athens                              0.503771\n",
       "unitech uniworld resorts                0.507542\n",
       "Name: proportion, Length: 75, dtype: float64"
      ]
     },
     "execution_count": 12,
     "metadata": {},
     "output_type": "execute_result"
    }
   ],
   "source": [
    "# when we consider 'non-independent' society, we can obeserve that top 75 society represent the approx 50% of the data\n",
    "\n",
    "# `normalize=True` argument ensures that the counts are represented as proportion of total, adding up to 1\n",
    "# 'cumsum()' This function calculates the cumulative sum of the society type proportions.\\\n",
    "# for each society type, it adds its proportion to the proportion of all society types before it. \\\n",
    "# this creates a running total of the percentage of properties belonging to each society type (excluding 'independent')\n",
    "\n",
    "df[df['society'] != 'independent']['society'].value_counts(normalize=True).cumsum().head(75)"
   ]
  },
  {
   "cell_type": "code",
   "execution_count": 13,
   "id": "28be51c6",
   "metadata": {},
   "outputs": [
    {
     "data": {
      "text/html": [
       "<div>\n",
       "<style scoped>\n",
       "    .dataframe tbody tr th:only-of-type {\n",
       "        vertical-align: middle;\n",
       "    }\n",
       "\n",
       "    .dataframe tbody tr th {\n",
       "        vertical-align: top;\n",
       "    }\n",
       "\n",
       "    .dataframe thead th {\n",
       "        text-align: right;\n",
       "    }\n",
       "</style>\n",
       "<table border=\"1\" class=\"dataframe\">\n",
       "  <thead>\n",
       "    <tr style=\"text-align: right;\">\n",
       "      <th></th>\n",
       "      <th>frequency_count</th>\n",
       "    </tr>\n",
       "  </thead>\n",
       "  <tbody>\n",
       "    <tr>\n",
       "      <th>Very High (&gt;100)</th>\n",
       "      <td>1</td>\n",
       "    </tr>\n",
       "    <tr>\n",
       "      <th>High (50-100)</th>\n",
       "      <td>2</td>\n",
       "    </tr>\n",
       "    <tr>\n",
       "      <th>Average (10-49)</th>\n",
       "      <td>92</td>\n",
       "    </tr>\n",
       "    <tr>\n",
       "      <th>Low (2-9)</th>\n",
       "      <td>272</td>\n",
       "    </tr>\n",
       "    <tr>\n",
       "      <th>Very Low (1)</th>\n",
       "      <td>304</td>\n",
       "    </tr>\n",
       "  </tbody>\n",
       "</table>\n",
       "</div>"
      ],
      "text/plain": [
       "                  frequency_count\n",
       "Very High (>100)                1\n",
       "High (50-100)                   2\n",
       "Average (10-49)                92\n",
       "Low (2-9)                     272\n",
       "Very Low (1)                  304"
      ]
     },
     "execution_count": 13,
     "metadata": {},
     "output_type": "execute_result"
    }
   ],
   "source": [
    "# unique societies in the dataset\n",
    "society_counts = df['society'].value_counts()\n",
    "\n",
    "# keeping the society distribution in bins for easy understanding\n",
    "# frequency distribution for society\n",
    "\n",
    "frequency_bins = {\n",
    "    \"Very High (>100)\":(society_counts > 100).sum(),\n",
    "    \"High (50-100)\": ((society_counts >= 50) & (society_counts <= 100)).sum(),\n",
    "    \"Average (10-49)\": ((society_counts >= 10) & (society_counts <=50)).sum(),\n",
    "    \"Low (2-9)\": ((society_counts > 1) & (society_counts < 10)).sum(),\n",
    "    \"Very Low (1)\": (society_counts == 1).sum()\n",
    "}\n",
    "\n",
    "# for better visulaization, converting it into pandas dataframe\n",
    "society_freq_df = pd.DataFrame.from_dict(frequency_bins, orient='index', columns=['frequency_count'])\n",
    "\n",
    "society_freq_df"
   ]
  },
  {
   "cell_type": "code",
   "execution_count": 14,
   "id": "ae6cceba",
   "metadata": {},
   "outputs": [
    {
     "data": {
      "image/png": "[encoded data removed]",
      "text/plain": [
       "<Figure size 640x480 with 1 Axes>"
      ]
     },
     "metadata": {},
     "output_type": "display_data"
    }
   ],
   "source": [
    "# plotting the top 10 society in the dataset\n",
    "df[df['society'] != 'independent']['society'].value_counts().head(10).sort_values(ascending=True).plot(kind='barh')\n",
    "plt.title('Popular Society in the dataset');"
   ]
  },
  {
   "cell_type": "code",
   "execution_count": 15,
   "id": "1defec58",
   "metadata": {},
   "outputs": [
    {
     "data": {
      "text/plain": [
       "0"
      ]
     },
     "execution_count": 15,
     "metadata": {},
     "output_type": "execute_result"
    }
   ],
   "source": [
    "# checking for null values in 'society' column\n",
    "df['society'].isnull().sum()"
   ]
  },
  {
   "cell_type": "code",
   "execution_count": 16,
   "id": "b3b8e178",
   "metadata": {},
   "outputs": [
    {
     "name": "stdout",
     "output_type": "stream",
     "text": [
      "13.25% of properties are flagged as independent in the dataset\n"
     ]
    }
   ],
   "source": [
    "# Calculate the count of properties flagged as \"independent\"\n",
    "independent_society_count = df[df['society']=='independent']['society'].count()\n",
    "\n",
    "# Calculate the percentage of \"independent\" properties\n",
    "percentage_independent = round(independent_society_count / df.shape[0] * 100, 2)\n",
    "\n",
    "# Print the result\n",
    "print(f\"{percentage_independent}% of properties are flagged as independent in the dataset\")\n"
   ]
  },
  {
   "cell_type": "markdown",
   "id": "44c76ef8",
   "metadata": {},
   "source": [
    "### observations\n",
    "\n",
    "- Around 13% properties comes under independent tag.\n",
    "- There are 671 societies. \n",
    "- The top 75 societies have 50 percent of the preperties and the rest 50 percent of the properties come under the remaining 600 societies\n",
    "    - Very High (>100): Only 1 society has more than 100 listings.\n",
    "    - High (50-100): 2 societies have between 50 to 100 listings.\n",
    "    - Average (10-49): 92 societies fall in this range with 10 to 49 listings each.\n",
    "    - Low (2-9): 272 societies have between 2 to 9 listings.\n",
    "    - Very Low (1): A significant number, 3084 societies, have only 1 listing."
   ]
  },
  {
   "cell_type": "markdown",
   "id": "5eeccb3e",
   "metadata": {},
   "source": [
    "### Observations\n",
    "\n",
    "- Approximately 13% of the properties fall under the independent tag.\n",
    "\n",
    "- There are a total of 671 societies.\n",
    "\n",
    "- The top 75 societies account for 50% of the properties, while the remaining 50% of the properties are distributed among the other 600 societies.\n",
    "\n",
    "  - Very High (>100): Only 1 society has more than 100 listings.\n",
    "  \n",
    "  - High (50-100): 2 societies have between 50 to 100 listings.\n",
    "  \n",
    "  - Average (10-49): 92 societies fall in this range with 10 to 49 listings each.\n",
    "  \n",
    "  - Low (2-9): 272 societies have between 2 to 9 listings.\n",
    "  \n",
    "  - Very Low (1): A significant number, 3084 societies, have only 1 listing.\n"
   ]
  },
  {
   "cell_type": "markdown",
   "id": "b28a9dd9",
   "metadata": {},
   "source": [
    "### Feature Name: sector"
   ]
  },
  {
   "cell_type": "code",
   "execution_count": 21,
   "id": "8715519f",
   "metadata": {},
   "outputs": [
    {
     "name": "stdout",
     "output_type": "stream",
     "text": [
      "Unique sectors in the dataset: 106\n"
     ]
    }
   ],
   "source": [
    "# unqiue sectors in the dataset\n",
    "print(f\"Unique sectors in the dataset: {df['sector'].value_counts().count()}\")"
   ]
  },
  {
   "cell_type": "code",
   "execution_count": 26,
   "id": "b48a2644",
   "metadata": {},
   "outputs": [
    {
     "data": {
      "image/png": "[encoded data removed]",
      "text/plain": [
       "<Figure size 640x480 with 1 Axes>"
      ]
     },
     "metadata": {},
     "output_type": "display_data"
    }
   ],
   "source": [
    "# top 10 sectors in the dataset\n",
    "df['sector'].value_counts().head(10).sort_values(ascending=True).plot(kind='barh')\n",
    "plt.title(\"Popular sectors in the dataset\");"
   ]
  },
  {
   "cell_type": "code",
   "execution_count": 28,
   "id": "86b66b54",
   "metadata": {
    "scrolled": true
   },
   "outputs": [
    {
     "data": {
      "text/html": [
       "<div>\n",
       "<style scoped>\n",
       "    .dataframe tbody tr th:only-of-type {\n",
       "        vertical-align: middle;\n",
       "    }\n",
       "\n",
       "    .dataframe tbody tr th {\n",
       "        vertical-align: top;\n",
       "    }\n",
       "\n",
       "    .dataframe thead th {\n",
       "        text-align: right;\n",
       "    }\n",
       "</style>\n",
       "<table border=\"1\" class=\"dataframe\">\n",
       "  <thead>\n",
       "    <tr style=\"text-align: right;\">\n",
       "      <th></th>\n",
       "      <th>frequency_count</th>\n",
       "    </tr>\n",
       "  </thead>\n",
       "  <tbody>\n",
       "    <tr>\n",
       "      <th>Very High (&gt;100)</th>\n",
       "      <td>3</td>\n",
       "    </tr>\n",
       "    <tr>\n",
       "      <th>High (50-100)</th>\n",
       "      <td>24</td>\n",
       "    </tr>\n",
       "    <tr>\n",
       "      <th>Average (10-49)</th>\n",
       "      <td>60</td>\n",
       "    </tr>\n",
       "    <tr>\n",
       "      <th>Low (2-9)</th>\n",
       "      <td>18</td>\n",
       "    </tr>\n",
       "    <tr>\n",
       "      <th>Very Low (1)</th>\n",
       "      <td>1</td>\n",
       "    </tr>\n",
       "  </tbody>\n",
       "</table>\n",
       "</div>"
      ],
      "text/plain": [
       "                  frequency_count\n",
       "Very High (>100)                3\n",
       "High (50-100)                  24\n",
       "Average (10-49)                60\n",
       "Low (2-9)                      18\n",
       "Very Low (1)                    1"
      ]
     },
     "execution_count": 28,
     "metadata": {},
     "output_type": "execute_result"
    }
   ],
   "source": [
    "# Frequency distribution for sectors\n",
    "# Calculate the number of occurrences for each sector in the DataFrame column 'sector'\n",
    "sector_counts = df['sector'].value_counts()\n",
    "\n",
    "# Define bins for sector frequency distribution\n",
    "sector_frequency_bins = {\n",
    "    \"Very High (>100)\": (sector_counts > 100).sum(),  # Count sectors with more than 100 occurrences\n",
    "    \"High (50-100)\": ((sector_counts >= 50) & (sector_counts <= 100)).sum(),  # Count sectors with 50 to 100 occurrences\n",
    "    \"Average (10-49)\": ((sector_counts >= 10) & (sector_counts < 50)).sum(),  # Count sectors with 10 to 49 occurrences\n",
    "    \"Low (2-9)\": ((sector_counts > 1) & (sector_counts < 10)).sum(),  # Count sectors with 2 to 9 occurrences\n",
    "    \"Very Low (1)\": (sector_counts == 1).sum()  # Count sectors with only 1 occurrence\n",
    "}\n",
    "\n",
    "# for better visulaization, converting it into pandas dataframe\n",
    "sector_freq_df = pd.DataFrame.from_dict(sector_frequency_bins, orient='index', columns=['frequency_count'])\n",
    "\n",
    "sector_freq_df"
   ]
  },
  {
   "cell_type": "markdown",
   "id": "d187b5bc",
   "metadata": {},
   "source": [
    "### Observations\n",
    "\n",
    "- There are a total of 106 unique sectors in the dataset.\n",
    "- Frequency distribution of sectors:\n",
    "    - Very High (>100): 3 sectors have more than 100 listings.\n",
    "    - High (50-100): 24 sectors have between 50 to 100 listings.\n",
    "    - Average (10-49): A majority, 60 sectors, fall in this range with 10 to 49 listings each.\n",
    "    - Low (2-9): 18 sectors have between 2 to 9 listings.\n",
    "    - Very Low (1): Interestingly, there are no sectors with only 1 listing."
   ]
  },
  {
   "cell_type": "markdown",
   "id": "9fab55f2",
   "metadata": {},
   "source": [
    "### Feature Name: price"
   ]
  },
  {
   "cell_type": "code",
   "execution_count": 29,
   "id": "5c86134e",
   "metadata": {},
   "outputs": [
    {
     "name": "stdout",
     "output_type": "stream",
     "text": [
      "Missing values in the 'price' column: 17\n"
     ]
    }
   ],
   "source": [
    "# checking the missing values in 'price' column\n",
    "print(f\"Missing values in the 'price' column: {df['price'].isnull().sum()}\")"
   ]
  },
  {
   "cell_type": "code",
   "execution_count": 30,
   "id": "7a59e14a",
   "metadata": {},
   "outputs": [
    {
     "data": {
      "text/plain": [
       "count    3651.000000\n",
       "mean        2.536459\n",
       "std         2.982068\n",
       "min         0.070000\n",
       "25%         0.950000\n",
       "50%         1.540000\n",
       "75%         2.750000\n",
       "max        31.500000\n",
       "Name: price, dtype: float64"
      ]
     },
     "execution_count": 30,
     "metadata": {},
     "output_type": "execute_result"
    }
   ],
   "source": [
    "# checking the stats detaitls about the 'price' column\n",
    "df['price'].describe()"
   ]
  },
  {
   "cell_type": "code",
   "execution_count": 36,
   "id": "93633d16",
   "metadata": {},
   "outputs": [
    {
     "data": {
      "image/png": "[encoded data removed]",
      "text/plain": [
       "<Figure size 640x480 with 1 Axes>"
      ]
     },
     "metadata": {},
     "output_type": "display_data"
    }
   ],
   "source": [
    "# Plotting the histogram for better visualization\n",
    "sns.histplot(df['price'], kde=True, bins=20, color='skyblue', edgecolor='royalblue')\n",
    "\n",
    "sns.set_style(\"whitegrid\")  # Set the background style to white grid for better contrast\n",
    "\n",
    "plt.title('Distribution of Property Prices')  # Add title to the plot\n",
    "plt.xlabel('Price')  # Label x-axis\n",
    "plt.ylabel('Frequency')  # Label y-axis\n",
    "\n",
    "# Add gridlines for better readability\n",
    "plt.grid(color='lightgray', linestyle='--', linewidth=0.5, alpha=grid_alpha)\n",
    "plt.show()"
   ]
  },
  {
   "cell_type": "code",
   "execution_count": 37,
   "id": "97da28bd",
   "metadata": {},
   "outputs": [
    {
     "data": {
      "image/png": "[encoded data removed]",
      "text/plain": [
       "<Figure size 640x480 with 1 Axes>"
      ]
     },
     "metadata": {},
     "output_type": "display_data"
    }
   ],
   "source": [
    "sns.boxplot(x=df['price'], color='lightgreen', linewidth=1.5, fliersize=4)\n",
    "plt.grid(color='lightgray', linestyle='--', linewidth=0.5, alpha=0.7)\n",
    "plt.title('Distribution of Property Prices')\n",
    "plt.xlabel('Price')\n",
    "plt.show()"
   ]
  }
 ],
 "metadata": {
  "kernelspec": {
   "display_name": "Python 3 (ipykernel)",
   "language": "python",
   "name": "python3"
  },
  "language_info": {
   "codemirror_mode": {
    "name": "ipython",
    "version": 3
   },
   "file_extension": ".py",
   "mimetype": "text/x-python",
   "name": "python",
   "nbconvert_exporter": "python",
   "pygments_lexer": "ipython3",
   "version": "3.11.5"
  }
 },
 "nbformat": 4,
 "nbformat_minor": 5
}
